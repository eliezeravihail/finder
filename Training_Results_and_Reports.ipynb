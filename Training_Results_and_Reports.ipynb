{
  "nbformat": 4,
  "nbformat_minor": 0,
  "metadata": {
    "colab": {
      "name": "Copy of YOLOv5 Tutorial",
      "provenance": [],
      "collapsed_sections": [],
      "include_colab_link": true
    },
    "kernelspec": {
      "name": "python3",
      "display_name": "Python 3"
    },
    "accelerator": "GPU",
    "widgets": {
      "application/vnd.jupyter.widget-state+json": {
        "217ca488c82a4b7a80318b70887a556e": {
          "model_module": "@jupyter-widgets/controls",
          "model_name": "HBoxModel",
          "state": {
            "_view_name": "HBoxView",
            "_dom_classes": [],
            "_model_name": "HBoxModel",
            "_view_module": "@jupyter-widgets/controls",
            "_model_module_version": "1.5.0",
            "_view_count": null,
            "_view_module_version": "1.5.0",
            "box_style": "",
            "layout": "IPY_MODEL_4e63af16f1084ca98a6fa5a282f2a81e",
            "_model_module": "@jupyter-widgets/controls",
            "children": [
              "IPY_MODEL_49f4b3c7f6ff42b4b9132a8550e12186",
              "IPY_MODEL_8ec9e1a4883245daaf029458ee09721f"
            ]
          }
        },
        "4e63af16f1084ca98a6fa5a282f2a81e": {
          "model_module": "@jupyter-widgets/base",
          "model_name": "LayoutModel",
          "state": {
            "_view_name": "LayoutView",
            "grid_template_rows": null,
            "right": null,
            "justify_content": null,
            "_view_module": "@jupyter-widgets/base",
            "overflow": null,
            "_model_module_version": "1.2.0",
            "_view_count": null,
            "flex_flow": null,
            "width": null,
            "min_width": null,
            "border": null,
            "align_items": null,
            "bottom": null,
            "_model_module": "@jupyter-widgets/base",
            "top": null,
            "grid_column": null,
            "overflow_y": null,
            "overflow_x": null,
            "grid_auto_flow": null,
            "grid_area": null,
            "grid_template_columns": null,
            "flex": null,
            "_model_name": "LayoutModel",
            "justify_items": null,
            "grid_row": null,
            "max_height": null,
            "align_content": null,
            "visibility": null,
            "align_self": null,
            "height": null,
            "min_height": null,
            "padding": null,
            "grid_auto_rows": null,
            "grid_gap": null,
            "max_width": null,
            "order": null,
            "_view_module_version": "1.2.0",
            "grid_template_areas": null,
            "object_position": null,
            "object_fit": null,
            "grid_auto_columns": null,
            "margin": null,
            "display": null,
            "left": null
          }
        },
        "49f4b3c7f6ff42b4b9132a8550e12186": {
          "model_module": "@jupyter-widgets/controls",
          "model_name": "FloatProgressModel",
          "state": {
            "_view_name": "ProgressView",
            "style": "IPY_MODEL_9d3e775ee11e4cf4b587b64fbc3cc6f7",
            "_dom_classes": [],
            "description": "100%",
            "_model_name": "FloatProgressModel",
            "bar_style": "success",
            "max": 22091032,
            "_view_module": "@jupyter-widgets/controls",
            "_model_module_version": "1.5.0",
            "value": 22091032,
            "_view_count": null,
            "_view_module_version": "1.5.0",
            "orientation": "horizontal",
            "min": 0,
            "description_tooltip": null,
            "_model_module": "@jupyter-widgets/controls",
            "layout": "IPY_MODEL_70f68a9a51ac46e6ab7e51fb4fc6bda3"
          }
        },
        "8ec9e1a4883245daaf029458ee09721f": {
          "model_module": "@jupyter-widgets/controls",
          "model_name": "HTMLModel",
          "state": {
            "_view_name": "HTMLView",
            "style": "IPY_MODEL_fdb8ab377c114bc3b862ba76eb93cef7",
            "_dom_classes": [],
            "description": "",
            "_model_name": "HTMLModel",
            "placeholder": "​",
            "_view_module": "@jupyter-widgets/controls",
            "_model_module_version": "1.5.0",
            "value": " 21.1M/21.1M [00:36&lt;00:00, 605kB/s]",
            "_view_count": null,
            "_view_module_version": "1.5.0",
            "description_tooltip": null,
            "_model_module": "@jupyter-widgets/controls",
            "layout": "IPY_MODEL_cd267c153c244621a1f50706d2ddc897"
          }
        },
        "9d3e775ee11e4cf4b587b64fbc3cc6f7": {
          "model_module": "@jupyter-widgets/controls",
          "model_name": "ProgressStyleModel",
          "state": {
            "_view_name": "StyleView",
            "_model_name": "ProgressStyleModel",
            "description_width": "initial",
            "_view_module": "@jupyter-widgets/base",
            "_model_module_version": "1.5.0",
            "_view_count": null,
            "_view_module_version": "1.2.0",
            "bar_color": null,
            "_model_module": "@jupyter-widgets/controls"
          }
        },
        "70f68a9a51ac46e6ab7e51fb4fc6bda3": {
          "model_module": "@jupyter-widgets/base",
          "model_name": "LayoutModel",
          "state": {
            "_view_name": "LayoutView",
            "grid_template_rows": null,
            "right": null,
            "justify_content": null,
            "_view_module": "@jupyter-widgets/base",
            "overflow": null,
            "_model_module_version": "1.2.0",
            "_view_count": null,
            "flex_flow": null,
            "width": null,
            "min_width": null,
            "border": null,
            "align_items": null,
            "bottom": null,
            "_model_module": "@jupyter-widgets/base",
            "top": null,
            "grid_column": null,
            "overflow_y": null,
            "overflow_x": null,
            "grid_auto_flow": null,
            "grid_area": null,
            "grid_template_columns": null,
            "flex": null,
            "_model_name": "LayoutModel",
            "justify_items": null,
            "grid_row": null,
            "max_height": null,
            "align_content": null,
            "visibility": null,
            "align_self": null,
            "height": null,
            "min_height": null,
            "padding": null,
            "grid_auto_rows": null,
            "grid_gap": null,
            "max_width": null,
            "order": null,
            "_view_module_version": "1.2.0",
            "grid_template_areas": null,
            "object_position": null,
            "object_fit": null,
            "grid_auto_columns": null,
            "margin": null,
            "display": null,
            "left": null
          }
        },
        "fdb8ab377c114bc3b862ba76eb93cef7": {
          "model_module": "@jupyter-widgets/controls",
          "model_name": "DescriptionStyleModel",
          "state": {
            "_view_name": "StyleView",
            "_model_name": "DescriptionStyleModel",
            "description_width": "",
            "_view_module": "@jupyter-widgets/base",
            "_model_module_version": "1.5.0",
            "_view_count": null,
            "_view_module_version": "1.2.0",
            "_model_module": "@jupyter-widgets/controls"
          }
        },
        "cd267c153c244621a1f50706d2ddc897": {
          "model_module": "@jupyter-widgets/base",
          "model_name": "LayoutModel",
          "state": {
            "_view_name": "LayoutView",
            "grid_template_rows": null,
            "right": null,
            "justify_content": null,
            "_view_module": "@jupyter-widgets/base",
            "overflow": null,
            "_model_module_version": "1.2.0",
            "_view_count": null,
            "flex_flow": null,
            "width": null,
            "min_width": null,
            "border": null,
            "align_items": null,
            "bottom": null,
            "_model_module": "@jupyter-widgets/base",
            "top": null,
            "grid_column": null,
            "overflow_y": null,
            "overflow_x": null,
            "grid_auto_flow": null,
            "grid_area": null,
            "grid_template_columns": null,
            "flex": null,
            "_model_name": "LayoutModel",
            "justify_items": null,
            "grid_row": null,
            "max_height": null,
            "align_content": null,
            "visibility": null,
            "align_self": null,
            "height": null,
            "min_height": null,
            "padding": null,
            "grid_auto_rows": null,
            "grid_gap": null,
            "max_width": null,
            "order": null,
            "_view_module_version": "1.2.0",
            "grid_template_areas": null,
            "object_position": null,
            "object_fit": null,
            "grid_auto_columns": null,
            "margin": null,
            "display": null,
            "left": null
          }
        }
      }
    }
  },
  "cells": [
    {
      "cell_type": "markdown",
      "metadata": {
        "id": "view-in-github",
        "colab_type": "text"
      },
      "source": [
        "<a href=\"https://colab.research.google.com/github/eliezeravihail/finder/blob/main/Training_Results_and_Reports.ipynb\" target=\"_parent\"><img src=\"https://colab.research.google.com/assets/colab-badge.svg\" alt=\"Open In Colab\"/></a>"
      ]
    },
    {
      "cell_type": "markdown",
      "metadata": {
        "id": "t6MPjfT5NrKQ"
      },
      "source": [
        "\n"
      ]
    },
    {
      "cell_type": "markdown",
      "metadata": {
        "id": "7mGmQbAO5pQb"
      },
      "source": [
        "# Setup\n",
        "\n",
        "Clone repo, install dependencies and check PyTorch and GPU."
      ]
    },
    {
      "cell_type": "code",
      "metadata": {
        "id": "wbvMlHd_QwMG",
        "colab": {
          "base_uri": "https://localhost:8080/"
        },
        "outputId": "d7ff7db2-d5ba-40b6-9d5e-387fa309eeb2"
      },
      "source": [
        "!git clone https://github.com/ultralytics/yolov5  # clone repo\n",
        "%cd yolov5\n",
        "%pip install -qr requirements.txt  # install dependencies\n",
        "\n",
        "import torch\n",
        "from IPython.display import Image, clear_output  # to display images\n",
        "\n",
        "clear_output()\n",
        "print(f\"Setup complete. Using torch {torch.__version__} ({torch.cuda.get_device_properties(0).name if torch.cuda.is_available() else 'CPU'})\")"
      ],
      "execution_count": null,
      "outputs": [
        {
          "output_type": "stream",
          "text": [
            "Setup complete. Using torch 1.8.1+cu101 (Tesla V100-SXM2-16GB)\n"
          ],
          "name": "stdout"
        }
      ]
    },
    {
      "cell_type": "code",
      "metadata": {
        "id": "qZlbXK2Fl_Pu",
        "colab": {
          "base_uri": "https://localhost:8080/"
        },
        "outputId": "1fa37bd5-003f-4956-9fa1-a4ea3ee1daf6"
      },
      "source": [
        "\n",
        "from google.colab import drive\n",
        "drive.mount('/content/drive')\n"
      ],
      "execution_count": null,
      "outputs": [
        {
          "output_type": "stream",
          "text": [
            "Mounted at /content/drive\n"
          ],
          "name": "stdout"
        }
      ]
    },
    {
      "cell_type": "markdown",
      "metadata": {
        "id": "4JnkELT0cIJg"
      },
      "source": [
        "# 1. Inference\n",
        "\n",
        "`detect.py` runs YOLOv5 inference on a variety of sources, downloading models automatically from the [latest YOLOv5 release](https://github.com/ultralytics/yolov5/releases), and saving results to `runs/detect`. Example inference sources are:\n",
        "\n",
        "<img src=\"https://user-images.githubusercontent.com/26833433/114307955-5c7e4e80-9ae2-11eb-9f50-a90e39bee53f.png\" width=\"900\"> "
      ]
    },
    {
      "cell_type": "code",
      "metadata": {
        "id": "Ujpx1P3Rtr4f",
        "colab": {
          "base_uri": "https://localhost:8080/"
        },
        "outputId": "90f8f040-2413-4f72-912f-c04ada071949"
      },
      "source": [
        "!python detect.py --weights /content/drive/MyDrive/Allweights/best100presentWordButBigBrigh.pt --img 1024 --line-thickness 1 --conf 0.45 --source /content/drive/MyDrive/Allweights/video.mp4 --hide-label\n",
        "# Image(filename='runs/detect/exp/zidane.jpg', width=600)"
      ],
      "execution_count": null,
      "outputs": [
        {
          "output_type": "stream",
          "text": [
            "Namespace(agnostic_nms=False, augment=False, classes=None, conf_thres=0.45, device='', exist_ok=False, half=False, hide_conf=False, hide_labels=True, imgsz=1024, iou_thres=0.45, line_thickness=1, max_det=1000, name='exp', nosave=False, project='runs/detect', save_conf=False, save_crop=False, save_txt=False, source='/content/drive/MyDrive/Allweights/video.mp4', update=False, view_img=False, weights=['/content/drive/MyDrive/Allweights/best100presentWordButBigBrigh.pt'])\n",
            "YOLOv5 🚀 v5.0-184-g3133607 torch 1.8.1+cu101 CUDA:0 (Tesla V100-SXM2-16GB, 16160.5MB)\n",
            "\n",
            "Fusing layers... \n",
            "Model Summary: 224 layers, 7053910 parameters, 0 gradients, 16.3 GFLOPs\n",
            "video 1/1 (1/858) /content/drive/MyDrive/Allweights/video.mp4: 576x1024 139 words, Done. (0.008s)\n",
            "video 1/1 (2/858) /content/drive/MyDrive/Allweights/video.mp4: 576x1024 140 words, Done. (0.007s)\n",
            "video 1/1 (3/858) /content/drive/MyDrive/Allweights/video.mp4: 576x1024 171 words, Done. (0.008s)\n",
            "video 1/1 (4/858) /content/drive/MyDrive/Allweights/video.mp4: 576x1024 330 words, Done. (0.007s)\n",
            "video 1/1 (5/858) /content/drive/MyDrive/Allweights/video.mp4: 576x1024 321 words, Done. (0.012s)\n",
            "video 1/1 (6/858) /content/drive/MyDrive/Allweights/video.mp4: 576x1024 348 words, Done. (0.008s)\n",
            "video 1/1 (7/858) /content/drive/MyDrive/Allweights/video.mp4: 576x1024 359 words, Done. (0.008s)\n",
            "video 1/1 (8/858) /content/drive/MyDrive/Allweights/video.mp4: 576x1024 345 words, Done. (0.007s)\n",
            "video 1/1 (9/858) /content/drive/MyDrive/Allweights/video.mp4: 576x1024 352 words, Done. (0.007s)\n",
            "video 1/1 (10/858) /content/drive/MyDrive/Allweights/video.mp4: 576x1024 325 words, Done. (0.007s)\n",
            "video 1/1 (11/858) /content/drive/MyDrive/Allweights/video.mp4: 576x1024 318 words, Done. (0.007s)\n",
            "video 1/1 (12/858) /content/drive/MyDrive/Allweights/video.mp4: 576x1024 304 words, Done. (0.008s)\n",
            "video 1/1 (13/858) /content/drive/MyDrive/Allweights/video.mp4: 576x1024 328 words, Done. (0.007s)\n",
            "video 1/1 (14/858) /content/drive/MyDrive/Allweights/video.mp4: 576x1024 325 words, Done. (0.007s)\n",
            "video 1/1 (15/858) /content/drive/MyDrive/Allweights/video.mp4: 576x1024 327 words, Done. (0.008s)\n",
            "video 1/1 (16/858) /content/drive/MyDrive/Allweights/video.mp4: 576x1024 345 words, Done. (0.007s)\n",
            "video 1/1 (17/858) /content/drive/MyDrive/Allweights/video.mp4: 576x1024 344 words, Done. (0.010s)\n",
            "video 1/1 (18/858) /content/drive/MyDrive/Allweights/video.mp4: 576x1024 338 words, Done. (0.008s)\n",
            "video 1/1 (19/858) /content/drive/MyDrive/Allweights/video.mp4: 576x1024 334 words, Done. (0.008s)\n",
            "video 1/1 (20/858) /content/drive/MyDrive/Allweights/video.mp4: 576x1024 346 words, Done. (0.011s)\n",
            "video 1/1 (21/858) /content/drive/MyDrive/Allweights/video.mp4: 576x1024 341 words, Done. (0.007s)\n",
            "video 1/1 (22/858) /content/drive/MyDrive/Allweights/video.mp4: 576x1024 342 words, Done. (0.009s)\n",
            "video 1/1 (23/858) /content/drive/MyDrive/Allweights/video.mp4: 576x1024 343 words, Done. (0.008s)\n",
            "video 1/1 (24/858) /content/drive/MyDrive/Allweights/video.mp4: 576x1024 358 words, Done. (0.008s)\n",
            "video 1/1 (25/858) /content/drive/MyDrive/Allweights/video.mp4: 576x1024 353 words, Done. (0.007s)\n",
            "video 1/1 (26/858) /content/drive/MyDrive/Allweights/video.mp4: 576x1024 351 words, Done. (0.008s)\n",
            "video 1/1 (27/858) /content/drive/MyDrive/Allweights/video.mp4: 576x1024 361 words, Done. (0.009s)\n",
            "video 1/1 (28/858) /content/drive/MyDrive/Allweights/video.mp4: 576x1024 344 words, Done. (0.007s)\n",
            "video 1/1 (29/858) /content/drive/MyDrive/Allweights/video.mp4: 576x1024 345 words, Done. (0.007s)\n",
            "video 1/1 (30/858) /content/drive/MyDrive/Allweights/video.mp4: 576x1024 333 words, Done. (0.008s)\n",
            "video 1/1 (31/858) /content/drive/MyDrive/Allweights/video.mp4: 576x1024 347 words, Done. (0.008s)\n",
            "video 1/1 (32/858) /content/drive/MyDrive/Allweights/video.mp4: 576x1024 357 words, Done. (0.008s)\n",
            "video 1/1 (33/858) /content/drive/MyDrive/Allweights/video.mp4: 576x1024 332 words, Done. (0.008s)\n",
            "video 1/1 (34/858) /content/drive/MyDrive/Allweights/video.mp4: 576x1024 340 words, Done. (0.008s)\n",
            "video 1/1 (35/858) /content/drive/MyDrive/Allweights/video.mp4: 576x1024 358 words, Done. (0.008s)\n",
            "video 1/1 (36/858) /content/drive/MyDrive/Allweights/video.mp4: 576x1024 357 words, Done. (0.008s)\n",
            "video 1/1 (37/858) /content/drive/MyDrive/Allweights/video.mp4: 576x1024 366 words, Done. (0.011s)\n",
            "video 1/1 (38/858) /content/drive/MyDrive/Allweights/video.mp4: 576x1024 359 words, Done. (0.008s)\n",
            "video 1/1 (39/858) /content/drive/MyDrive/Allweights/video.mp4: 576x1024 360 words, Done. (0.008s)\n",
            "video 1/1 (40/858) /content/drive/MyDrive/Allweights/video.mp4: 576x1024 357 words, Done. (0.008s)\n",
            "video 1/1 (41/858) /content/drive/MyDrive/Allweights/video.mp4: 576x1024 364 words, Done. (0.008s)\n",
            "video 1/1 (42/858) /content/drive/MyDrive/Allweights/video.mp4: 576x1024 348 words, Done. (0.008s)\n",
            "video 1/1 (43/858) /content/drive/MyDrive/Allweights/video.mp4: 576x1024 347 words, Done. (0.008s)\n",
            "video 1/1 (44/858) /content/drive/MyDrive/Allweights/video.mp4: 576x1024 358 words, Done. (0.009s)\n",
            "video 1/1 (45/858) /content/drive/MyDrive/Allweights/video.mp4: 576x1024 349 words, Done. (0.009s)\n",
            "video 1/1 (46/858) /content/drive/MyDrive/Allweights/video.mp4: 576x1024 348 words, Done. (0.008s)\n",
            "video 1/1 (47/858) /content/drive/MyDrive/Allweights/video.mp4: 576x1024 344 words, Done. (0.008s)\n",
            "video 1/1 (48/858) /content/drive/MyDrive/Allweights/video.mp4: 576x1024 356 words, Done. (0.008s)\n",
            "video 1/1 (49/858) /content/drive/MyDrive/Allweights/video.mp4: 576x1024 356 words, Done. (0.009s)\n",
            "video 1/1 (50/858) /content/drive/MyDrive/Allweights/video.mp4: 576x1024 356 words, Done. (0.007s)\n",
            "video 1/1 (51/858) /content/drive/MyDrive/Allweights/video.mp4: 576x1024 347 words, Done. (0.009s)\n",
            "video 1/1 (52/858) /content/drive/MyDrive/Allweights/video.mp4: 576x1024 348 words, Done. (0.007s)\n",
            "video 1/1 (53/858) /content/drive/MyDrive/Allweights/video.mp4: 576x1024 347 words, Done. (0.008s)\n",
            "video 1/1 (54/858) /content/drive/MyDrive/Allweights/video.mp4: 576x1024 350 words, Done. (0.008s)\n",
            "video 1/1 (55/858) /content/drive/MyDrive/Allweights/video.mp4: 576x1024 349 words, Done. (0.008s)\n",
            "video 1/1 (56/858) /content/drive/MyDrive/Allweights/video.mp4: 576x1024 348 words, Done. (0.008s)\n",
            "video 1/1 (57/858) /content/drive/MyDrive/Allweights/video.mp4: 576x1024 359 words, Done. (0.008s)\n",
            "video 1/1 (58/858) /content/drive/MyDrive/Allweights/video.mp4: 576x1024 361 words, Done. (0.008s)\n",
            "video 1/1 (59/858) /content/drive/MyDrive/Allweights/video.mp4: 576x1024 360 words, Done. (0.007s)\n",
            "video 1/1 (60/858) /content/drive/MyDrive/Allweights/video.mp4: 576x1024 360 words, Done. (0.008s)\n",
            "video 1/1 (61/858) /content/drive/MyDrive/Allweights/video.mp4: 576x1024 330 words, Done. (0.007s)\n",
            "video 1/1 (62/858) /content/drive/MyDrive/Allweights/video.mp4: 576x1024 223 words, Done. (0.007s)\n",
            "video 1/1 (63/858) /content/drive/MyDrive/Allweights/video.mp4: 576x1024 120 words, Done. (0.007s)\n",
            "video 1/1 (64/858) /content/drive/MyDrive/Allweights/video.mp4: 576x1024 158 words, Done. (0.007s)\n",
            "video 1/1 (65/858) /content/drive/MyDrive/Allweights/video.mp4: 576x1024 176 words, Done. (0.007s)\n",
            "video 1/1 (66/858) /content/drive/MyDrive/Allweights/video.mp4: 576x1024 296 words, Done. (0.008s)\n",
            "video 1/1 (67/858) /content/drive/MyDrive/Allweights/video.mp4: 576x1024 309 words, Done. (0.010s)\n",
            "video 1/1 (68/858) /content/drive/MyDrive/Allweights/video.mp4: 576x1024 311 words, Done. (0.008s)\n",
            "video 1/1 (69/858) /content/drive/MyDrive/Allweights/video.mp4: 576x1024 310 words, Done. (0.007s)\n",
            "video 1/1 (70/858) /content/drive/MyDrive/Allweights/video.mp4: 576x1024 328 words, Done. (0.007s)\n",
            "video 1/1 (71/858) /content/drive/MyDrive/Allweights/video.mp4: 576x1024 308 words, Done. (0.007s)\n",
            "video 1/1 (72/858) /content/drive/MyDrive/Allweights/video.mp4: 576x1024 306 words, Done. (0.009s)\n",
            "video 1/1 (73/858) /content/drive/MyDrive/Allweights/video.mp4: 576x1024 286 words, Done. (0.011s)\n",
            "video 1/1 (74/858) /content/drive/MyDrive/Allweights/video.mp4: 576x1024 227 words, Done. (0.007s)\n",
            "video 1/1 (75/858) /content/drive/MyDrive/Allweights/video.mp4: 576x1024 182 words, Done. (0.007s)\n",
            "video 1/1 (76/858) /content/drive/MyDrive/Allweights/video.mp4: 576x1024 195 words, Done. (0.007s)\n",
            "video 1/1 (77/858) /content/drive/MyDrive/Allweights/video.mp4: 576x1024 184 words, Done. (0.007s)\n",
            "video 1/1 (78/858) /content/drive/MyDrive/Allweights/video.mp4: 576x1024 190 words, Done. (0.007s)\n",
            "video 1/1 (79/858) /content/drive/MyDrive/Allweights/video.mp4: 576x1024 151 words, Done. (0.007s)\n",
            "video 1/1 (80/858) /content/drive/MyDrive/Allweights/video.mp4: 576x1024 171 words, Done. (0.007s)\n",
            "video 1/1 (81/858) /content/drive/MyDrive/Allweights/video.mp4: 576x1024 156 words, Done. (0.007s)\n",
            "video 1/1 (82/858) /content/drive/MyDrive/Allweights/video.mp4: 576x1024 169 words, Done. (0.007s)\n",
            "video 1/1 (83/858) /content/drive/MyDrive/Allweights/video.mp4: 576x1024 231 words, Done. (0.007s)\n",
            "video 1/1 (84/858) /content/drive/MyDrive/Allweights/video.mp4: 576x1024 279 words, Done. (0.007s)\n",
            "video 1/1 (85/858) /content/drive/MyDrive/Allweights/video.mp4: 576x1024 297 words, Done. (0.009s)\n",
            "video 1/1 (86/858) /content/drive/MyDrive/Allweights/video.mp4: 576x1024 360 words, Done. (0.007s)\n",
            "video 1/1 (87/858) /content/drive/MyDrive/Allweights/video.mp4: 576x1024 372 words, Done. (0.008s)\n",
            "video 1/1 (88/858) /content/drive/MyDrive/Allweights/video.mp4: 576x1024 357 words, Done. (0.007s)\n",
            "video 1/1 (89/858) /content/drive/MyDrive/Allweights/video.mp4: 576x1024 326 words, Done. (0.007s)\n",
            "video 1/1 (90/858) /content/drive/MyDrive/Allweights/video.mp4: 576x1024 289 words, Done. (0.007s)\n",
            "video 1/1 (91/858) /content/drive/MyDrive/Allweights/video.mp4: 576x1024 188 words, Done. (0.008s)\n",
            "video 1/1 (92/858) /content/drive/MyDrive/Allweights/video.mp4: 576x1024 93 words, Done. (0.007s)\n",
            "video 1/1 (93/858) /content/drive/MyDrive/Allweights/video.mp4: 576x1024 45 words, Done. (0.007s)\n",
            "video 1/1 (94/858) /content/drive/MyDrive/Allweights/video.mp4: 576x1024 10 words, Done. (0.007s)\n",
            "video 1/1 (95/858) /content/drive/MyDrive/Allweights/video.mp4: 576x1024 Done. (0.006s)\n",
            "video 1/1 (96/858) /content/drive/MyDrive/Allweights/video.mp4: 576x1024 Done. (0.006s)\n",
            "video 1/1 (97/858) /content/drive/MyDrive/Allweights/video.mp4: 576x1024 Done. (0.006s)\n",
            "video 1/1 (98/858) /content/drive/MyDrive/Allweights/video.mp4: 576x1024 Done. (0.006s)\n",
            "video 1/1 (99/858) /content/drive/MyDrive/Allweights/video.mp4: 576x1024 Done. (0.006s)\n",
            "video 1/1 (100/858) /content/drive/MyDrive/Allweights/video.mp4: 576x1024 Done. (0.006s)\n",
            "video 1/1 (101/858) /content/drive/MyDrive/Allweights/video.mp4: 576x1024 Done. (0.006s)\n",
            "video 1/1 (102/858) /content/drive/MyDrive/Allweights/video.mp4: 576x1024 Done. (0.006s)\n",
            "video 1/1 (103/858) /content/drive/MyDrive/Allweights/video.mp4: 576x1024 Done. (0.006s)\n",
            "video 1/1 (104/858) /content/drive/MyDrive/Allweights/video.mp4: 576x1024 Done. (0.006s)\n",
            "video 1/1 (105/858) /content/drive/MyDrive/Allweights/video.mp4: 576x1024 Done. (0.010s)\n",
            "video 1/1 (106/858) /content/drive/MyDrive/Allweights/video.mp4: 576x1024 Done. (0.007s)\n",
            "video 1/1 (107/858) /content/drive/MyDrive/Allweights/video.mp4: 576x1024 Done. (0.006s)\n",
            "video 1/1 (108/858) /content/drive/MyDrive/Allweights/video.mp4: 576x1024 Done. (0.010s)\n",
            "video 1/1 (109/858) /content/drive/MyDrive/Allweights/video.mp4: 576x1024 Done. (0.006s)\n",
            "video 1/1 (110/858) /content/drive/MyDrive/Allweights/video.mp4: 576x1024 Done. (0.006s)\n",
            "video 1/1 (111/858) /content/drive/MyDrive/Allweights/video.mp4: 576x1024 Done. (0.006s)\n",
            "video 1/1 (112/858) /content/drive/MyDrive/Allweights/video.mp4: 576x1024 3 words, Done. (0.006s)\n",
            "video 1/1 (113/858) /content/drive/MyDrive/Allweights/video.mp4: 576x1024 32 words, Done. (0.007s)\n",
            "video 1/1 (114/858) /content/drive/MyDrive/Allweights/video.mp4: 576x1024 127 words, Done. (0.007s)\n",
            "video 1/1 (115/858) /content/drive/MyDrive/Allweights/video.mp4: 576x1024 217 words, Done. (0.007s)\n",
            "video 1/1 (116/858) /content/drive/MyDrive/Allweights/video.mp4: 576x1024 143 words, Done. (0.006s)\n",
            "video 1/1 (117/858) /content/drive/MyDrive/Allweights/video.mp4: 576x1024 129 words, Done. (0.006s)\n",
            "video 1/1 (118/858) /content/drive/MyDrive/Allweights/video.mp4: 576x1024 120 words, Done. (0.007s)\n",
            "video 1/1 (119/858) /content/drive/MyDrive/Allweights/video.mp4: 576x1024 190 words, Done. (0.007s)\n",
            "video 1/1 (120/858) /content/drive/MyDrive/Allweights/video.mp4: 576x1024 270 words, Done. (0.008s)\n",
            "video 1/1 (121/858) /content/drive/MyDrive/Allweights/video.mp4: 576x1024 170 words, Done. (0.007s)\n",
            "video 1/1 (122/858) /content/drive/MyDrive/Allweights/video.mp4: 576x1024 122 words, Done. (0.007s)\n",
            "video 1/1 (123/858) /content/drive/MyDrive/Allweights/video.mp4: 576x1024 71 words, Done. (0.007s)\n",
            "video 1/1 (124/858) /content/drive/MyDrive/Allweights/video.mp4: 576x1024 194 words, Done. (0.007s)\n",
            "video 1/1 (125/858) /content/drive/MyDrive/Allweights/video.mp4: 576x1024 201 words, Done. (0.008s)\n",
            "video 1/1 (126/858) /content/drive/MyDrive/Allweights/video.mp4: 576x1024 195 words, Done. (0.010s)\n",
            "video 1/1 (127/858) /content/drive/MyDrive/Allweights/video.mp4: 576x1024 185 words, Done. (0.008s)\n",
            "video 1/1 (128/858) /content/drive/MyDrive/Allweights/video.mp4: 576x1024 176 words, Done. (0.008s)\n",
            "video 1/1 (129/858) /content/drive/MyDrive/Allweights/video.mp4: 576x1024 295 words, Done. (0.008s)\n",
            "video 1/1 (130/858) /content/drive/MyDrive/Allweights/video.mp4: 576x1024 315 words, Done. (0.007s)\n",
            "video 1/1 (131/858) /content/drive/MyDrive/Allweights/video.mp4: 576x1024 319 words, Done. (0.009s)\n",
            "video 1/1 (132/858) /content/drive/MyDrive/Allweights/video.mp4: 576x1024 317 words, Done. (0.008s)\n",
            "video 1/1 (133/858) /content/drive/MyDrive/Allweights/video.mp4: 576x1024 168 words, Done. (0.008s)\n",
            "video 1/1 (134/858) /content/drive/MyDrive/Allweights/video.mp4: 576x1024 230 words, Done. (0.007s)\n",
            "video 1/1 (135/858) /content/drive/MyDrive/Allweights/video.mp4: 576x1024 245 words, Done. (0.007s)\n",
            "video 1/1 (136/858) /content/drive/MyDrive/Allweights/video.mp4: 576x1024 266 words, Done. (0.007s)\n",
            "video 1/1 (137/858) /content/drive/MyDrive/Allweights/video.mp4: 576x1024 210 words, Done. (0.007s)\n",
            "video 1/1 (138/858) /content/drive/MyDrive/Allweights/video.mp4: 576x1024 224 words, Done. (0.009s)\n",
            "video 1/1 (139/858) /content/drive/MyDrive/Allweights/video.mp4: 576x1024 218 words, Done. (0.007s)\n",
            "video 1/1 (140/858) /content/drive/MyDrive/Allweights/video.mp4: 576x1024 173 words, Done. (0.007s)\n",
            "video 1/1 (141/858) /content/drive/MyDrive/Allweights/video.mp4: 576x1024 223 words, Done. (0.009s)\n",
            "video 1/1 (142/858) /content/drive/MyDrive/Allweights/video.mp4: 576x1024 236 words, Done. (0.007s)\n",
            "video 1/1 (143/858) /content/drive/MyDrive/Allweights/video.mp4: 576x1024 302 words, Done. (0.007s)\n",
            "video 1/1 (144/858) /content/drive/MyDrive/Allweights/video.mp4: 576x1024 311 words, Done. (0.007s)\n",
            "video 1/1 (145/858) /content/drive/MyDrive/Allweights/video.mp4: 576x1024 315 words, Done. (0.007s)\n",
            "video 1/1 (146/858) /content/drive/MyDrive/Allweights/video.mp4: 576x1024 329 words, Done. (0.007s)\n",
            "video 1/1 (147/858) /content/drive/MyDrive/Allweights/video.mp4: 576x1024 325 words, Done. (0.007s)\n",
            "video 1/1 (148/858) /content/drive/MyDrive/Allweights/video.mp4: 576x1024 253 words, Done. (0.007s)\n",
            "video 1/1 (149/858) /content/drive/MyDrive/Allweights/video.mp4: 576x1024 254 words, Done. (0.007s)\n",
            "video 1/1 (150/858) /content/drive/MyDrive/Allweights/video.mp4: 576x1024 260 words, Done. (0.007s)\n",
            "video 1/1 (151/858) /content/drive/MyDrive/Allweights/video.mp4: 576x1024 256 words, Done. (0.007s)\n",
            "video 1/1 (152/858) /content/drive/MyDrive/Allweights/video.mp4: 576x1024 313 words, Done. (0.007s)\n",
            "video 1/1 (153/858) /content/drive/MyDrive/Allweights/video.mp4: 576x1024 315 words, Done. (0.007s)\n",
            "video 1/1 (154/858) /content/drive/MyDrive/Allweights/video.mp4: 576x1024 323 words, Done. (0.007s)\n",
            "video 1/1 (155/858) /content/drive/MyDrive/Allweights/video.mp4: 576x1024 332 words, Done. (0.008s)\n",
            "video 1/1 (156/858) /content/drive/MyDrive/Allweights/video.mp4: 576x1024 343 words, Done. (0.007s)\n",
            "video 1/1 (157/858) /content/drive/MyDrive/Allweights/video.mp4: 576x1024 337 words, Done. (0.007s)\n",
            "video 1/1 (158/858) /content/drive/MyDrive/Allweights/video.mp4: 576x1024 322 words, Done. (0.008s)\n",
            "video 1/1 (159/858) /content/drive/MyDrive/Allweights/video.mp4: 576x1024 322 words, Done. (0.009s)\n",
            "video 1/1 (160/858) /content/drive/MyDrive/Allweights/video.mp4: 576x1024 327 words, Done. (0.008s)\n",
            "video 1/1 (161/858) /content/drive/MyDrive/Allweights/video.mp4: 576x1024 321 words, Done. (0.007s)\n",
            "video 1/1 (162/858) /content/drive/MyDrive/Allweights/video.mp4: 576x1024 331 words, Done. (0.009s)\n",
            "video 1/1 (163/858) /content/drive/MyDrive/Allweights/video.mp4: 576x1024 331 words, Done. (0.008s)\n",
            "video 1/1 (164/858) /content/drive/MyDrive/Allweights/video.mp4: 576x1024 319 words, Done. (0.008s)\n",
            "video 1/1 (165/858) /content/drive/MyDrive/Allweights/video.mp4: 576x1024 315 words, Done. (0.008s)\n",
            "video 1/1 (166/858) /content/drive/MyDrive/Allweights/video.mp4: 576x1024 327 words, Done. (0.008s)\n",
            "video 1/1 (167/858) /content/drive/MyDrive/Allweights/video.mp4: 576x1024 313 words, Done. (0.008s)\n",
            "video 1/1 (168/858) /content/drive/MyDrive/Allweights/video.mp4: 576x1024 211 words, Done. (0.007s)\n",
            "video 1/1 (169/858) /content/drive/MyDrive/Allweights/video.mp4: 576x1024 124 words, Done. (0.007s)\n",
            "video 1/1 (170/858) /content/drive/MyDrive/Allweights/video.mp4: 576x1024 82 words, Done. (0.008s)\n",
            "video 1/1 (171/858) /content/drive/MyDrive/Allweights/video.mp4: 576x1024 140 words, Done. (0.007s)\n",
            "video 1/1 (172/858) /content/drive/MyDrive/Allweights/video.mp4: 576x1024 85 words, Done. (0.007s)\n",
            "video 1/1 (173/858) /content/drive/MyDrive/Allweights/video.mp4: 576x1024 19 words, Done. (0.007s)\n",
            "video 1/1 (174/858) /content/drive/MyDrive/Allweights/video.mp4: 576x1024 8 words, Done. (0.007s)\n",
            "video 1/1 (175/858) /content/drive/MyDrive/Allweights/video.mp4: 576x1024 33 words, Done. (0.006s)\n",
            "video 1/1 (176/858) /content/drive/MyDrive/Allweights/video.mp4: 576x1024 3 words, Done. (0.010s)\n",
            "video 1/1 (177/858) /content/drive/MyDrive/Allweights/video.mp4: 576x1024 1 word, Done. (0.006s)\n",
            "video 1/1 (178/858) /content/drive/MyDrive/Allweights/video.mp4: 576x1024 Done. (0.006s)\n",
            "video 1/1 (179/858) /content/drive/MyDrive/Allweights/video.mp4: 576x1024 1 word, Done. (0.006s)\n",
            "video 1/1 (180/858) /content/drive/MyDrive/Allweights/video.mp4: 576x1024 Done. (0.006s)\n",
            "video 1/1 (181/858) /content/drive/MyDrive/Allweights/video.mp4: 576x1024 12 words, Done. (0.006s)\n",
            "video 1/1 (182/858) /content/drive/MyDrive/Allweights/video.mp4: 576x1024 1 word, Done. (0.006s)\n",
            "video 1/1 (183/858) /content/drive/MyDrive/Allweights/video.mp4: 576x1024 2 words, Done. (0.006s)\n",
            "video 1/1 (184/858) /content/drive/MyDrive/Allweights/video.mp4: 576x1024 5 words, Done. (0.006s)\n",
            "video 1/1 (185/858) /content/drive/MyDrive/Allweights/video.mp4: 576x1024 10 words, Done. (0.006s)\n",
            "video 1/1 (186/858) /content/drive/MyDrive/Allweights/video.mp4: 576x1024 17 words, Done. (0.006s)\n",
            "video 1/1 (187/858) /content/drive/MyDrive/Allweights/video.mp4: 576x1024 9 words, Done. (0.006s)\n",
            "video 1/1 (188/858) /content/drive/MyDrive/Allweights/video.mp4: 576x1024 5 words, Done. (0.008s)\n",
            "video 1/1 (189/858) /content/drive/MyDrive/Allweights/video.mp4: 576x1024 1 word, Done. (0.006s)\n",
            "video 1/1 (190/858) /content/drive/MyDrive/Allweights/video.mp4: 576x1024 4 words, Done. (0.006s)\n",
            "video 1/1 (191/858) /content/drive/MyDrive/Allweights/video.mp4: 576x1024 5 words, Done. (0.006s)\n",
            "video 1/1 (192/858) /content/drive/MyDrive/Allweights/video.mp4: 576x1024 7 words, Done. (0.006s)\n",
            "video 1/1 (193/858) /content/drive/MyDrive/Allweights/video.mp4: 576x1024 9 words, Done. (0.006s)\n",
            "video 1/1 (194/858) /content/drive/MyDrive/Allweights/video.mp4: 576x1024 11 words, Done. (0.006s)\n",
            "video 1/1 (195/858) /content/drive/MyDrive/Allweights/video.mp4: 576x1024 10 words, Done. (0.006s)\n",
            "video 1/1 (196/858) /content/drive/MyDrive/Allweights/video.mp4: 576x1024 10 words, Done. (0.006s)\n",
            "video 1/1 (197/858) /content/drive/MyDrive/Allweights/video.mp4: 576x1024 6 words, Done. (0.006s)\n",
            "video 1/1 (198/858) /content/drive/MyDrive/Allweights/video.mp4: 576x1024 7 words, Done. (0.007s)\n",
            "video 1/1 (199/858) /content/drive/MyDrive/Allweights/video.mp4: 576x1024 9 words, Done. (0.006s)\n",
            "video 1/1 (200/858) /content/drive/MyDrive/Allweights/video.mp4: 576x1024 6 words, Done. (0.006s)\n",
            "video 1/1 (201/858) /content/drive/MyDrive/Allweights/video.mp4: 576x1024 88 words, Done. (0.006s)\n",
            "video 1/1 (202/858) /content/drive/MyDrive/Allweights/video.mp4: 576x1024 176 words, Done. (0.008s)\n",
            "video 1/1 (203/858) /content/drive/MyDrive/Allweights/video.mp4: 576x1024 217 words, Done. (0.007s)\n",
            "video 1/1 (204/858) /content/drive/MyDrive/Allweights/video.mp4: 576x1024 220 words, Done. (0.007s)\n",
            "video 1/1 (205/858) /content/drive/MyDrive/Allweights/video.mp4: 576x1024 264 words, Done. (0.011s)\n",
            "video 1/1 (206/858) /content/drive/MyDrive/Allweights/video.mp4: 576x1024 309 words, Done. (0.008s)\n",
            "video 1/1 (207/858) /content/drive/MyDrive/Allweights/video.mp4: 576x1024 256 words, Done. (0.008s)\n",
            "video 1/1 (208/858) /content/drive/MyDrive/Allweights/video.mp4: 576x1024 204 words, Done. (0.007s)\n",
            "video 1/1 (209/858) /content/drive/MyDrive/Allweights/video.mp4: 576x1024 168 words, Done. (0.007s)\n",
            "video 1/1 (210/858) /content/drive/MyDrive/Allweights/video.mp4: 576x1024 159 words, Done. (0.006s)\n",
            "video 1/1 (211/858) /content/drive/MyDrive/Allweights/video.mp4: 576x1024 111 words, Done. (0.006s)\n",
            "video 1/1 (212/858) /content/drive/MyDrive/Allweights/video.mp4: 576x1024 115 words, Done. (0.006s)\n",
            "video 1/1 (213/858) /content/drive/MyDrive/Allweights/video.mp4: 576x1024 130 words, Done. (0.006s)\n",
            "video 1/1 (214/858) /content/drive/MyDrive/Allweights/video.mp4: 576x1024 250 words, Done. (0.007s)\n",
            "video 1/1 (215/858) /content/drive/MyDrive/Allweights/video.mp4: 576x1024 348 words, Done. (0.007s)\n",
            "video 1/1 (216/858) /content/drive/MyDrive/Allweights/video.mp4: 576x1024 362 words, Done. (0.008s)\n",
            "video 1/1 (217/858) /content/drive/MyDrive/Allweights/video.mp4: 576x1024 358 words, Done. (0.010s)\n",
            "video 1/1 (218/858) /content/drive/MyDrive/Allweights/video.mp4: 576x1024 336 words, Done. (0.008s)\n",
            "video 1/1 (219/858) /content/drive/MyDrive/Allweights/video.mp4: 576x1024 321 words, Done. (0.007s)\n",
            "video 1/1 (220/858) /content/drive/MyDrive/Allweights/video.mp4: 576x1024 327 words, Done. (0.010s)\n",
            "video 1/1 (221/858) /content/drive/MyDrive/Allweights/video.mp4: 576x1024 317 words, Done. (0.007s)\n",
            "video 1/1 (222/858) /content/drive/MyDrive/Allweights/video.mp4: 576x1024 344 words, Done. (0.007s)\n",
            "video 1/1 (223/858) /content/drive/MyDrive/Allweights/video.mp4: 576x1024 355 words, Done. (0.007s)\n",
            "video 1/1 (224/858) /content/drive/MyDrive/Allweights/video.mp4: 576x1024 366 words, Done. (0.008s)\n",
            "video 1/1 (225/858) /content/drive/MyDrive/Allweights/video.mp4: 576x1024 359 words, Done. (0.007s)\n",
            "video 1/1 (226/858) /content/drive/MyDrive/Allweights/video.mp4: 576x1024 368 words, Done. (0.008s)\n",
            "video 1/1 (227/858) /content/drive/MyDrive/Allweights/video.mp4: 576x1024 367 words, Done. (0.008s)\n",
            "video 1/1 (228/858) /content/drive/MyDrive/Allweights/video.mp4: 576x1024 362 words, Done. (0.011s)\n",
            "video 1/1 (229/858) /content/drive/MyDrive/Allweights/video.mp4: 576x1024 365 words, Done. (0.008s)\n",
            "video 1/1 (230/858) /content/drive/MyDrive/Allweights/video.mp4: 576x1024 378 words, Done. (0.009s)\n",
            "video 1/1 (231/858) /content/drive/MyDrive/Allweights/video.mp4: 576x1024 369 words, Done. (0.008s)\n",
            "video 1/1 (232/858) /content/drive/MyDrive/Allweights/video.mp4: 576x1024 375 words, Done. (0.013s)\n",
            "video 1/1 (233/858) /content/drive/MyDrive/Allweights/video.mp4: 576x1024 368 words, Done. (0.008s)\n",
            "video 1/1 (234/858) /content/drive/MyDrive/Allweights/video.mp4: 576x1024 368 words, Done. (0.008s)\n",
            "video 1/1 (235/858) /content/drive/MyDrive/Allweights/video.mp4: 576x1024 378 words, Done. (0.008s)\n",
            "video 1/1 (236/858) /content/drive/MyDrive/Allweights/video.mp4: 576x1024 380 words, Done. (0.012s)\n",
            "video 1/1 (237/858) /content/drive/MyDrive/Allweights/video.mp4: 576x1024 333 words, Done. (0.007s)\n",
            "video 1/1 (238/858) /content/drive/MyDrive/Allweights/video.mp4: 576x1024 347 words, Done. (0.007s)\n",
            "video 1/1 (239/858) /content/drive/MyDrive/Allweights/video.mp4: 576x1024 330 words, Done. (0.007s)\n",
            "video 1/1 (240/858) /content/drive/MyDrive/Allweights/video.mp4: 576x1024 289 words, Done. (0.007s)\n",
            "video 1/1 (241/858) /content/drive/MyDrive/Allweights/video.mp4: 576x1024 283 words, Done. (0.012s)\n",
            "video 1/1 (242/858) /content/drive/MyDrive/Allweights/video.mp4: 576x1024 274 words, Done. (0.007s)\n",
            "video 1/1 (243/858) /content/drive/MyDrive/Allweights/video.mp4: 576x1024 328 words, Done. (0.007s)\n",
            "video 1/1 (244/858) /content/drive/MyDrive/Allweights/video.mp4: 576x1024 348 words, Done. (0.007s)\n",
            "video 1/1 (245/858) /content/drive/MyDrive/Allweights/video.mp4: 576x1024 352 words, Done. (0.007s)\n",
            "video 1/1 (246/858) /content/drive/MyDrive/Allweights/video.mp4: 576x1024 364 words, Done. (0.008s)\n",
            "video 1/1 (247/858) /content/drive/MyDrive/Allweights/video.mp4: 576x1024 373 words, Done. (0.009s)\n",
            "video 1/1 (248/858) /content/drive/MyDrive/Allweights/video.mp4: 576x1024 365 words, Done. (0.007s)\n",
            "video 1/1 (249/858) /content/drive/MyDrive/Allweights/video.mp4: 576x1024 354 words, Done. (0.007s)\n",
            "video 1/1 (250/858) /content/drive/MyDrive/Allweights/video.mp4: 576x1024 353 words, Done. (0.009s)\n",
            "video 1/1 (251/858) /content/drive/MyDrive/Allweights/video.mp4: 576x1024 328 words, Done. (0.008s)\n",
            "video 1/1 (252/858) /content/drive/MyDrive/Allweights/video.mp4: 576x1024 364 words, Done. (0.007s)\n",
            "video 1/1 (253/858) /content/drive/MyDrive/Allweights/video.mp4: 576x1024 365 words, Done. (0.008s)\n",
            "video 1/1 (254/858) /content/drive/MyDrive/Allweights/video.mp4: 576x1024 337 words, Done. (0.008s)\n",
            "video 1/1 (255/858) /content/drive/MyDrive/Allweights/video.mp4: 576x1024 344 words, Done. (0.010s)\n",
            "video 1/1 (256/858) /content/drive/MyDrive/Allweights/video.mp4: 576x1024 342 words, Done. (0.008s)\n",
            "video 1/1 (257/858) /content/drive/MyDrive/Allweights/video.mp4: 576x1024 365 words, Done. (0.009s)\n",
            "video 1/1 (258/858) /content/drive/MyDrive/Allweights/video.mp4: 576x1024 343 words, Done. (0.008s)\n",
            "video 1/1 (259/858) /content/drive/MyDrive/Allweights/video.mp4: 576x1024 365 words, Done. (0.007s)\n",
            "video 1/1 (260/858) /content/drive/MyDrive/Allweights/video.mp4: 576x1024 365 words, Done. (0.008s)\n",
            "video 1/1 (261/858) /content/drive/MyDrive/Allweights/video.mp4: 576x1024 379 words, Done. (0.008s)\n",
            "video 1/1 (262/858) /content/drive/MyDrive/Allweights/video.mp4: 576x1024 382 words, Done. (0.008s)\n",
            "video 1/1 (263/858) /content/drive/MyDrive/Allweights/video.mp4: 576x1024 361 words, Done. (0.007s)\n",
            "video 1/1 (264/858) /content/drive/MyDrive/Allweights/video.mp4: 576x1024 354 words, Done. (0.007s)\n",
            "video 1/1 (265/858) /content/drive/MyDrive/Allweights/video.mp4: 576x1024 271 words, Done. (0.007s)\n",
            "video 1/1 (266/858) /content/drive/MyDrive/Allweights/video.mp4: 576x1024 170 words, Done. (0.007s)\n",
            "video 1/1 (267/858) /content/drive/MyDrive/Allweights/video.mp4: 576x1024 85 words, Done. (0.007s)\n",
            "video 1/1 (268/858) /content/drive/MyDrive/Allweights/video.mp4: 576x1024 58 words, Done. (0.006s)\n",
            "video 1/1 (269/858) /content/drive/MyDrive/Allweights/video.mp4: 576x1024 73 words, Done. (0.006s)\n",
            "video 1/1 (270/858) /content/drive/MyDrive/Allweights/video.mp4: 576x1024 241 words, Done. (0.007s)\n",
            "video 1/1 (271/858) /content/drive/MyDrive/Allweights/video.mp4: 576x1024 287 words, Done. (0.007s)\n",
            "video 1/1 (272/858) /content/drive/MyDrive/Allweights/video.mp4: 576x1024 280 words, Done. (0.007s)\n",
            "video 1/1 (273/858) /content/drive/MyDrive/Allweights/video.mp4: 576x1024 319 words, Done. (0.007s)\n",
            "video 1/1 (274/858) /content/drive/MyDrive/Allweights/video.mp4: 576x1024 337 words, Done. (0.007s)\n",
            "video 1/1 (275/858) /content/drive/MyDrive/Allweights/video.mp4: 576x1024 332 words, Done. (0.007s)\n",
            "video 1/1 (276/858) /content/drive/MyDrive/Allweights/video.mp4: 576x1024 342 words, Done. (0.007s)\n",
            "video 1/1 (277/858) /content/drive/MyDrive/Allweights/video.mp4: 576x1024 341 words, Done. (0.007s)\n",
            "video 1/1 (278/858) /content/drive/MyDrive/Allweights/video.mp4: 576x1024 331 words, Done. (0.009s)\n",
            "video 1/1 (279/858) /content/drive/MyDrive/Allweights/video.mp4: 576x1024 308 words, Done. (0.007s)\n",
            "video 1/1 (280/858) /content/drive/MyDrive/Allweights/video.mp4: 576x1024 277 words, Done. (0.007s)\n",
            "video 1/1 (281/858) /content/drive/MyDrive/Allweights/video.mp4: 576x1024 174 words, Done. (0.007s)\n",
            "video 1/1 (282/858) /content/drive/MyDrive/Allweights/video.mp4: 576x1024 31 words, Done. (0.007s)\n",
            "video 1/1 (283/858) /content/drive/MyDrive/Allweights/video.mp4: 576x1024 6 words, Done. (0.006s)\n",
            "video 1/1 (284/858) /content/drive/MyDrive/Allweights/video.mp4: 576x1024 Done. (0.006s)\n",
            "video 1/1 (285/858) /content/drive/MyDrive/Allweights/video.mp4: 576x1024 Done. (0.008s)\n",
            "video 1/1 (286/858) /content/drive/MyDrive/Allweights/video.mp4: 576x1024 Done. (0.006s)\n",
            "video 1/1 (287/858) /content/drive/MyDrive/Allweights/video.mp4: 576x1024 Done. (0.006s)\n",
            "video 1/1 (288/858) /content/drive/MyDrive/Allweights/video.mp4: 576x1024 Done. (0.006s)\n",
            "video 1/1 (289/858) /content/drive/MyDrive/Allweights/video.mp4: 576x1024 Done. (0.006s)\n",
            "video 1/1 (290/858) /content/drive/MyDrive/Allweights/video.mp4: 576x1024 Done. (0.006s)\n",
            "video 1/1 (291/858) /content/drive/MyDrive/Allweights/video.mp4: 576x1024 Done. (0.006s)\n",
            "video 1/1 (292/858) /content/drive/MyDrive/Allweights/video.mp4: 576x1024 Done. (0.006s)\n",
            "video 1/1 (293/858) /content/drive/MyDrive/Allweights/video.mp4: 576x1024 Done. (0.010s)\n",
            "video 1/1 (294/858) /content/drive/MyDrive/Allweights/video.mp4: 576x1024 Done. (0.009s)\n",
            "video 1/1 (295/858) /content/drive/MyDrive/Allweights/video.mp4: 576x1024 Done. (0.006s)\n",
            "video 1/1 (296/858) /content/drive/MyDrive/Allweights/video.mp4: 576x1024 Done. (0.006s)\n",
            "video 1/1 (297/858) /content/drive/MyDrive/Allweights/video.mp4: 576x1024 Done. (0.006s)\n",
            "video 1/1 (298/858) /content/drive/MyDrive/Allweights/video.mp4: 576x1024 Done. (0.006s)\n",
            "video 1/1 (299/858) /content/drive/MyDrive/Allweights/video.mp4: 576x1024 1 word, Done. (0.006s)\n",
            "video 1/1 (300/858) /content/drive/MyDrive/Allweights/video.mp4: 576x1024 25 words, Done. (0.006s)\n",
            "video 1/1 (301/858) /content/drive/MyDrive/Allweights/video.mp4: 576x1024 101 words, Done. (0.006s)\n",
            "video 1/1 (302/858) /content/drive/MyDrive/Allweights/video.mp4: 576x1024 176 words, Done. (0.006s)\n",
            "video 1/1 (303/858) /content/drive/MyDrive/Allweights/video.mp4: 576x1024 307 words, Done. (0.007s)\n",
            "video 1/1 (304/858) /content/drive/MyDrive/Allweights/video.mp4: 576x1024 322 words, Done. (0.008s)\n",
            "video 1/1 (305/858) /content/drive/MyDrive/Allweights/video.mp4: 576x1024 317 words, Done. (0.007s)\n",
            "video 1/1 (306/858) /content/drive/MyDrive/Allweights/video.mp4: 576x1024 340 words, Done. (0.007s)\n",
            "video 1/1 (307/858) /content/drive/MyDrive/Allweights/video.mp4: 576x1024 336 words, Done. (0.008s)\n",
            "video 1/1 (308/858) /content/drive/MyDrive/Allweights/video.mp4: 576x1024 351 words, Done. (0.007s)\n",
            "video 1/1 (309/858) /content/drive/MyDrive/Allweights/video.mp4: 576x1024 359 words, Done. (0.008s)\n",
            "video 1/1 (310/858) /content/drive/MyDrive/Allweights/video.mp4: 576x1024 373 words, Done. (0.008s)\n",
            "video 1/1 (311/858) /content/drive/MyDrive/Allweights/video.mp4: 576x1024 378 words, Done. (0.012s)\n",
            "video 1/1 (312/858) /content/drive/MyDrive/Allweights/video.mp4: 576x1024 372 words, Done. (0.008s)\n",
            "video 1/1 (313/858) /content/drive/MyDrive/Allweights/video.mp4: 576x1024 368 words, Done. (0.009s)\n",
            "video 1/1 (314/858) /content/drive/MyDrive/Allweights/video.mp4: 576x1024 305 words, Done. (0.007s)\n",
            "video 1/1 (315/858) /content/drive/MyDrive/Allweights/video.mp4: 576x1024 209 words, Done. (0.007s)\n",
            "video 1/1 (316/858) /content/drive/MyDrive/Allweights/video.mp4: 576x1024 158 words, Done. (0.007s)\n",
            "video 1/1 (317/858) /content/drive/MyDrive/Allweights/video.mp4: 576x1024 165 words, Done. (0.007s)\n",
            "video 1/1 (318/858) /content/drive/MyDrive/Allweights/video.mp4: 576x1024 144 words, Done. (0.007s)\n",
            "video 1/1 (319/858) /content/drive/MyDrive/Allweights/video.mp4: 576x1024 157 words, Done. (0.011s)\n",
            "video 1/1 (320/858) /content/drive/MyDrive/Allweights/video.mp4: 576x1024 158 words, Done. (0.007s)\n",
            "video 1/1 (321/858) /content/drive/MyDrive/Allweights/video.mp4: 576x1024 174 words, Done. (0.007s)\n",
            "video 1/1 (322/858) /content/drive/MyDrive/Allweights/video.mp4: 576x1024 317 words, Done. (0.007s)\n",
            "video 1/1 (323/858) /content/drive/MyDrive/Allweights/video.mp4: 576x1024 305 words, Done. (0.008s)\n",
            "video 1/1 (324/858) /content/drive/MyDrive/Allweights/video.mp4: 576x1024 309 words, Done. (0.007s)\n",
            "video 1/1 (325/858) /content/drive/MyDrive/Allweights/video.mp4: 576x1024 328 words, Done. (0.009s)\n",
            "video 1/1 (326/858) /content/drive/MyDrive/Allweights/video.mp4: 576x1024 336 words, Done. (0.008s)\n",
            "video 1/1 (327/858) /content/drive/MyDrive/Allweights/video.mp4: 576x1024 336 words, Done. (0.008s)\n",
            "video 1/1 (328/858) /content/drive/MyDrive/Allweights/video.mp4: 576x1024 340 words, Done. (0.008s)\n",
            "video 1/1 (329/858) /content/drive/MyDrive/Allweights/video.mp4: 576x1024 351 words, Done. (0.007s)\n",
            "video 1/1 (330/858) /content/drive/MyDrive/Allweights/video.mp4: 576x1024 345 words, Done. (0.008s)\n",
            "video 1/1 (331/858) /content/drive/MyDrive/Allweights/video.mp4: 576x1024 343 words, Done. (0.008s)\n",
            "video 1/1 (332/858) /content/drive/MyDrive/Allweights/video.mp4: 576x1024 335 words, Done. (0.010s)\n",
            "video 1/1 (333/858) /content/drive/MyDrive/Allweights/video.mp4: 576x1024 339 words, Done. (0.008s)\n",
            "video 1/1 (334/858) /content/drive/MyDrive/Allweights/video.mp4: 576x1024 341 words, Done. (0.008s)\n",
            "video 1/1 (335/858) /content/drive/MyDrive/Allweights/video.mp4: 576x1024 334 words, Done. (0.007s)\n",
            "video 1/1 (336/858) /content/drive/MyDrive/Allweights/video.mp4: 576x1024 337 words, Done. (0.008s)\n",
            "video 1/1 (337/858) /content/drive/MyDrive/Allweights/video.mp4: 576x1024 349 words, Done. (0.008s)\n",
            "video 1/1 (338/858) /content/drive/MyDrive/Allweights/video.mp4: 576x1024 338 words, Done. (0.009s)\n",
            "video 1/1 (339/858) /content/drive/MyDrive/Allweights/video.mp4: 576x1024 321 words, Done. (0.009s)\n",
            "video 1/1 (340/858) /content/drive/MyDrive/Allweights/video.mp4: 576x1024 265 words, Done. (0.008s)\n",
            "video 1/1 (341/858) /content/drive/MyDrive/Allweights/video.mp4: 576x1024 216 words, Done. (0.007s)\n",
            "video 1/1 (342/858) /content/drive/MyDrive/Allweights/video.mp4: 576x1024 75 words, Done. (0.007s)\n",
            "video 1/1 (343/858) /content/drive/MyDrive/Allweights/video.mp4: 576x1024 19 words, Done. (0.007s)\n",
            "video 1/1 (344/858) /content/drive/MyDrive/Allweights/video.mp4: 576x1024 3 words, Done. (0.007s)\n",
            "video 1/1 (345/858) /content/drive/MyDrive/Allweights/video.mp4: 576x1024 4 words, Done. (0.007s)\n",
            "video 1/1 (346/858) /content/drive/MyDrive/Allweights/video.mp4: 576x1024 Done. (0.006s)\n",
            "video 1/1 (347/858) /content/drive/MyDrive/Allweights/video.mp4: 576x1024 Done. (0.006s)\n",
            "video 1/1 (348/858) /content/drive/MyDrive/Allweights/video.mp4: 576x1024 Done. (0.006s)\n",
            "video 1/1 (349/858) /content/drive/MyDrive/Allweights/video.mp4: 576x1024 9 words, Done. (0.007s)\n",
            "video 1/1 (350/858) /content/drive/MyDrive/Allweights/video.mp4: 576x1024 8 words, Done. (0.006s)\n",
            "video 1/1 (351/858) /content/drive/MyDrive/Allweights/video.mp4: 576x1024 5 words, Done. (0.006s)\n",
            "video 1/1 (352/858) /content/drive/MyDrive/Allweights/video.mp4: 576x1024 3 words, Done. (0.009s)\n",
            "video 1/1 (353/858) /content/drive/MyDrive/Allweights/video.mp4: 576x1024 6 words, Done. (0.007s)\n",
            "video 1/1 (354/858) /content/drive/MyDrive/Allweights/video.mp4: 576x1024 12 words, Done. (0.007s)\n",
            "video 1/1 (355/858) /content/drive/MyDrive/Allweights/video.mp4: 576x1024 6 words, Done. (0.006s)\n",
            "video 1/1 (356/858) /content/drive/MyDrive/Allweights/video.mp4: 576x1024 12 words, Done. (0.007s)\n",
            "video 1/1 (357/858) /content/drive/MyDrive/Allweights/video.mp4: 576x1024 17 words, Done. (0.006s)\n",
            "video 1/1 (358/858) /content/drive/MyDrive/Allweights/video.mp4: 576x1024 15 words, Done. (0.011s)\n",
            "video 1/1 (359/858) /content/drive/MyDrive/Allweights/video.mp4: 576x1024 17 words, Done. (0.007s)\n",
            "video 1/1 (360/858) /content/drive/MyDrive/Allweights/video.mp4: 576x1024 10 words, Done. (0.007s)\n",
            "video 1/1 (361/858) /content/drive/MyDrive/Allweights/video.mp4: 576x1024 3 words, Done. (0.007s)\n",
            "video 1/1 (362/858) /content/drive/MyDrive/Allweights/video.mp4: 576x1024 Done. (0.006s)\n",
            "video 1/1 (363/858) /content/drive/MyDrive/Allweights/video.mp4: 576x1024 Done. (0.007s)\n",
            "video 1/1 (364/858) /content/drive/MyDrive/Allweights/video.mp4: 576x1024 2 words, Done. (0.007s)\n",
            "video 1/1 (365/858) /content/drive/MyDrive/Allweights/video.mp4: 576x1024 18 words, Done. (0.007s)\n",
            "video 1/1 (366/858) /content/drive/MyDrive/Allweights/video.mp4: 576x1024 194 words, Done. (0.006s)\n",
            "video 1/1 (367/858) /content/drive/MyDrive/Allweights/video.mp4: 576x1024 228 words, Done. (0.007s)\n",
            "video 1/1 (368/858) /content/drive/MyDrive/Allweights/video.mp4: 576x1024 243 words, Done. (0.009s)\n",
            "video 1/1 (369/858) /content/drive/MyDrive/Allweights/video.mp4: 576x1024 253 words, Done. (0.007s)\n",
            "video 1/1 (370/858) /content/drive/MyDrive/Allweights/video.mp4: 576x1024 223 words, Done. (0.007s)\n",
            "video 1/1 (371/858) /content/drive/MyDrive/Allweights/video.mp4: 576x1024 209 words, Done. (0.007s)\n",
            "video 1/1 (372/858) /content/drive/MyDrive/Allweights/video.mp4: 576x1024 108 words, Done. (0.007s)\n",
            "video 1/1 (373/858) /content/drive/MyDrive/Allweights/video.mp4: 576x1024 130 words, Done. (0.007s)\n",
            "video 1/1 (374/858) /content/drive/MyDrive/Allweights/video.mp4: 576x1024 251 words, Done. (0.007s)\n",
            "video 1/1 (375/858) /content/drive/MyDrive/Allweights/video.mp4: 576x1024 248 words, Done. (0.007s)\n",
            "video 1/1 (376/858) /content/drive/MyDrive/Allweights/video.mp4: 576x1024 229 words, Done. (0.007s)\n",
            "video 1/1 (377/858) /content/drive/MyDrive/Allweights/video.mp4: 576x1024 285 words, Done. (0.008s)\n",
            "video 1/1 (378/858) /content/drive/MyDrive/Allweights/video.mp4: 576x1024 312 words, Done. (0.008s)\n",
            "video 1/1 (379/858) /content/drive/MyDrive/Allweights/video.mp4: 576x1024 303 words, Done. (0.007s)\n",
            "video 1/1 (380/858) /content/drive/MyDrive/Allweights/video.mp4: 576x1024 261 words, Done. (0.007s)\n",
            "video 1/1 (381/858) /content/drive/MyDrive/Allweights/video.mp4: 576x1024 223 words, Done. (0.008s)\n",
            "video 1/1 (382/858) /content/drive/MyDrive/Allweights/video.mp4: 576x1024 208 words, Done. (0.007s)\n",
            "video 1/1 (383/858) /content/drive/MyDrive/Allweights/video.mp4: 576x1024 88 words, Done. (0.007s)\n",
            "video 1/1 (384/858) /content/drive/MyDrive/Allweights/video.mp4: 576x1024 72 words, Done. (0.007s)\n",
            "video 1/1 (385/858) /content/drive/MyDrive/Allweights/video.mp4: 576x1024 56 words, Done. (0.007s)\n",
            "video 1/1 (386/858) /content/drive/MyDrive/Allweights/video.mp4: 576x1024 62 words, Done. (0.007s)\n",
            "video 1/1 (387/858) /content/drive/MyDrive/Allweights/video.mp4: 576x1024 159 words, Done. (0.011s)\n",
            "video 1/1 (388/858) /content/drive/MyDrive/Allweights/video.mp4: 576x1024 213 words, Done. (0.007s)\n",
            "video 1/1 (389/858) /content/drive/MyDrive/Allweights/video.mp4: 576x1024 320 words, Done. (0.008s)\n",
            "video 1/1 (390/858) /content/drive/MyDrive/Allweights/video.mp4: 576x1024 344 words, Done. (0.008s)\n",
            "video 1/1 (391/858) /content/drive/MyDrive/Allweights/video.mp4: 576x1024 346 words, Done. (0.008s)\n",
            "video 1/1 (392/858) /content/drive/MyDrive/Allweights/video.mp4: 576x1024 349 words, Done. (0.008s)\n",
            "video 1/1 (393/858) /content/drive/MyDrive/Allweights/video.mp4: 576x1024 337 words, Done. (0.007s)\n",
            "video 1/1 (394/858) /content/drive/MyDrive/Allweights/video.mp4: 576x1024 326 words, Done. (0.008s)\n",
            "video 1/1 (395/858) /content/drive/MyDrive/Allweights/video.mp4: 576x1024 313 words, Done. (0.007s)\n",
            "video 1/1 (396/858) /content/drive/MyDrive/Allweights/video.mp4: 576x1024 330 words, Done. (0.007s)\n",
            "video 1/1 (397/858) /content/drive/MyDrive/Allweights/video.mp4: 576x1024 346 words, Done. (0.007s)\n",
            "video 1/1 (398/858) /content/drive/MyDrive/Allweights/video.mp4: 576x1024 336 words, Done. (0.007s)\n",
            "video 1/1 (399/858) /content/drive/MyDrive/Allweights/video.mp4: 576x1024 336 words, Done. (0.007s)\n",
            "video 1/1 (400/858) /content/drive/MyDrive/Allweights/video.mp4: 576x1024 342 words, Done. (0.007s)\n",
            "video 1/1 (401/858) /content/drive/MyDrive/Allweights/video.mp4: 576x1024 355 words, Done. (0.007s)\n",
            "video 1/1 (402/858) /content/drive/MyDrive/Allweights/video.mp4: 576x1024 349 words, Done. (0.008s)\n",
            "video 1/1 (403/858) /content/drive/MyDrive/Allweights/video.mp4: 576x1024 347 words, Done. (0.008s)\n",
            "video 1/1 (404/858) /content/drive/MyDrive/Allweights/video.mp4: 576x1024 345 words, Done. (0.007s)\n",
            "video 1/1 (405/858) /content/drive/MyDrive/Allweights/video.mp4: 576x1024 347 words, Done. (0.007s)\n",
            "video 1/1 (406/858) /content/drive/MyDrive/Allweights/video.mp4: 576x1024 363 words, Done. (0.007s)\n",
            "video 1/1 (407/858) /content/drive/MyDrive/Allweights/video.mp4: 576x1024 358 words, Done. (0.007s)\n",
            "video 1/1 (408/858) /content/drive/MyDrive/Allweights/video.mp4: 576x1024 362 words, Done. (0.009s)\n",
            "video 1/1 (409/858) /content/drive/MyDrive/Allweights/video.mp4: 576x1024 360 words, Done. (0.008s)\n",
            "video 1/1 (410/858) /content/drive/MyDrive/Allweights/video.mp4: 576x1024 361 words, Done. (0.008s)\n",
            "video 1/1 (411/858) /content/drive/MyDrive/Allweights/video.mp4: 576x1024 355 words, Done. (0.007s)\n",
            "video 1/1 (412/858) /content/drive/MyDrive/Allweights/video.mp4: 576x1024 366 words, Done. (0.007s)\n",
            "video 1/1 (413/858) /content/drive/MyDrive/Allweights/video.mp4: 576x1024 371 words, Done. (0.008s)\n",
            "video 1/1 (414/858) /content/drive/MyDrive/Allweights/video.mp4: 576x1024 357 words, Done. (0.008s)\n",
            "video 1/1 (415/858) /content/drive/MyDrive/Allweights/video.mp4: 576x1024 360 words, Done. (0.007s)\n",
            "video 1/1 (416/858) /content/drive/MyDrive/Allweights/video.mp4: 576x1024 365 words, Done. (0.007s)\n",
            "video 1/1 (417/858) /content/drive/MyDrive/Allweights/video.mp4: 576x1024 359 words, Done. (0.007s)\n",
            "video 1/1 (418/858) /content/drive/MyDrive/Allweights/video.mp4: 576x1024 363 words, Done. (0.007s)\n",
            "video 1/1 (419/858) /content/drive/MyDrive/Allweights/video.mp4: 576x1024 359 words, Done. (0.007s)\n",
            "video 1/1 (420/858) /content/drive/MyDrive/Allweights/video.mp4: 576x1024 364 words, Done. (0.007s)\n",
            "video 1/1 (421/858) /content/drive/MyDrive/Allweights/video.mp4: 576x1024 359 words, Done. (0.007s)\n",
            "video 1/1 (422/858) /content/drive/MyDrive/Allweights/video.mp4: 576x1024 360 words, Done. (0.007s)\n",
            "video 1/1 (423/858) /content/drive/MyDrive/Allweights/video.mp4: 576x1024 339 words, Done. (0.007s)\n",
            "video 1/1 (424/858) /content/drive/MyDrive/Allweights/video.mp4: 576x1024 224 words, Done. (0.007s)\n",
            "video 1/1 (425/858) /content/drive/MyDrive/Allweights/video.mp4: 576x1024 148 words, Done. (0.006s)\n",
            "video 1/1 (426/858) /content/drive/MyDrive/Allweights/video.mp4: 576x1024 38 words, Done. (0.007s)\n",
            "video 1/1 (427/858) /content/drive/MyDrive/Allweights/video.mp4: 576x1024 2 words, Done. (0.007s)\n",
            "video 1/1 (428/858) /content/drive/MyDrive/Allweights/video.mp4: 576x1024 Done. (0.008s)\n",
            "video 1/1 (429/858) /content/drive/MyDrive/Allweights/video.mp4: 576x1024 1 word, Done. (0.007s)\n",
            "video 1/1 (430/858) /content/drive/MyDrive/Allweights/video.mp4: 576x1024 Done. (0.006s)\n",
            "video 1/1 (431/858) /content/drive/MyDrive/Allweights/video.mp4: 576x1024 Done. (0.006s)\n",
            "video 1/1 (432/858) /content/drive/MyDrive/Allweights/video.mp4: 576x1024 Done. (0.006s)\n",
            "video 1/1 (433/858) /content/drive/MyDrive/Allweights/video.mp4: 576x1024 Done. (0.006s)\n",
            "video 1/1 (434/858) /content/drive/MyDrive/Allweights/video.mp4: 576x1024 Done. (0.008s)\n",
            "video 1/1 (435/858) /content/drive/MyDrive/Allweights/video.mp4: 576x1024 Done. (0.006s)\n",
            "video 1/1 (436/858) /content/drive/MyDrive/Allweights/video.mp4: 576x1024 Done. (0.006s)\n",
            "video 1/1 (437/858) /content/drive/MyDrive/Allweights/video.mp4: 576x1024 Done. (0.006s)\n",
            "video 1/1 (438/858) /content/drive/MyDrive/Allweights/video.mp4: 576x1024 Done. (0.006s)\n",
            "video 1/1 (439/858) /content/drive/MyDrive/Allweights/video.mp4: 576x1024 Done. (0.006s)\n",
            "video 1/1 (440/858) /content/drive/MyDrive/Allweights/video.mp4: 576x1024 Done. (0.006s)\n",
            "video 1/1 (441/858) /content/drive/MyDrive/Allweights/video.mp4: 576x1024 Done. (0.006s)\n",
            "video 1/1 (442/858) /content/drive/MyDrive/Allweights/video.mp4: 576x1024 Done. (0.006s)\n",
            "video 1/1 (443/858) /content/drive/MyDrive/Allweights/video.mp4: 576x1024 Done. (0.006s)\n",
            "video 1/1 (444/858) /content/drive/MyDrive/Allweights/video.mp4: 576x1024 Done. (0.006s)\n",
            "video 1/1 (445/858) /content/drive/MyDrive/Allweights/video.mp4: 576x1024 Done. (0.006s)\n",
            "video 1/1 (446/858) /content/drive/MyDrive/Allweights/video.mp4: 576x1024 Done. (0.006s)\n",
            "video 1/1 (447/858) /content/drive/MyDrive/Allweights/video.mp4: 576x1024 Done. (0.006s)\n",
            "video 1/1 (448/858) /content/drive/MyDrive/Allweights/video.mp4: 576x1024 1 word, Done. (0.006s)\n",
            "video 1/1 (449/858) /content/drive/MyDrive/Allweights/video.mp4: 576x1024 1 word, Done. (0.008s)\n",
            "video 1/1 (450/858) /content/drive/MyDrive/Allweights/video.mp4: 576x1024 1 word, Done. (0.009s)\n",
            "video 1/1 (451/858) /content/drive/MyDrive/Allweights/video.mp4: 576x1024 6 words, Done. (0.007s)\n",
            "video 1/1 (452/858) /content/drive/MyDrive/Allweights/video.mp4: 576x1024 10 words, Done. (0.007s)\n",
            "video 1/1 (453/858) /content/drive/MyDrive/Allweights/video.mp4: 576x1024 21 words, Done. (0.006s)\n",
            "video 1/1 (454/858) /content/drive/MyDrive/Allweights/video.mp4: 576x1024 37 words, Done. (0.006s)\n",
            "video 1/1 (455/858) /content/drive/MyDrive/Allweights/video.mp4: 576x1024 105 words, Done. (0.006s)\n",
            "video 1/1 (456/858) /content/drive/MyDrive/Allweights/video.mp4: 576x1024 222 words, Done. (0.007s)\n",
            "video 1/1 (457/858) /content/drive/MyDrive/Allweights/video.mp4: 576x1024 243 words, Done. (0.007s)\n",
            "video 1/1 (458/858) /content/drive/MyDrive/Allweights/video.mp4: 576x1024 314 words, Done. (0.008s)\n",
            "video 1/1 (459/858) /content/drive/MyDrive/Allweights/video.mp4: 576x1024 337 words, Done. (0.008s)\n",
            "video 1/1 (460/858) /content/drive/MyDrive/Allweights/video.mp4: 576x1024 332 words, Done. (0.008s)\n",
            "video 1/1 (461/858) /content/drive/MyDrive/Allweights/video.mp4: 576x1024 323 words, Done. (0.009s)\n",
            "video 1/1 (462/858) /content/drive/MyDrive/Allweights/video.mp4: 576x1024 320 words, Done. (0.008s)\n",
            "video 1/1 (463/858) /content/drive/MyDrive/Allweights/video.mp4: 576x1024 321 words, Done. (0.008s)\n",
            "video 1/1 (464/858) /content/drive/MyDrive/Allweights/video.mp4: 576x1024 305 words, Done. (0.009s)\n",
            "video 1/1 (465/858) /content/drive/MyDrive/Allweights/video.mp4: 576x1024 293 words, Done. (0.008s)\n",
            "video 1/1 (466/858) /content/drive/MyDrive/Allweights/video.mp4: 576x1024 248 words, Done. (0.008s)\n",
            "video 1/1 (467/858) /content/drive/MyDrive/Allweights/video.mp4: 576x1024 210 words, Done. (0.008s)\n",
            "video 1/1 (468/858) /content/drive/MyDrive/Allweights/video.mp4: 576x1024 238 words, Done. (0.009s)\n",
            "video 1/1 (469/858) /content/drive/MyDrive/Allweights/video.mp4: 576x1024 273 words, Done. (0.008s)\n",
            "video 1/1 (470/858) /content/drive/MyDrive/Allweights/video.mp4: 576x1024 267 words, Done. (0.008s)\n",
            "video 1/1 (471/858) /content/drive/MyDrive/Allweights/video.mp4: 576x1024 182 words, Done. (0.007s)\n",
            "video 1/1 (472/858) /content/drive/MyDrive/Allweights/video.mp4: 576x1024 220 words, Done. (0.007s)\n",
            "video 1/1 (473/858) /content/drive/MyDrive/Allweights/video.mp4: 576x1024 299 words, Done. (0.008s)\n",
            "video 1/1 (474/858) /content/drive/MyDrive/Allweights/video.mp4: 576x1024 330 words, Done. (0.008s)\n",
            "video 1/1 (475/858) /content/drive/MyDrive/Allweights/video.mp4: 576x1024 302 words, Done. (0.008s)\n",
            "video 1/1 (476/858) /content/drive/MyDrive/Allweights/video.mp4: 576x1024 243 words, Done. (0.008s)\n",
            "video 1/1 (477/858) /content/drive/MyDrive/Allweights/video.mp4: 576x1024 109 words, Done. (0.007s)\n",
            "video 1/1 (478/858) /content/drive/MyDrive/Allweights/video.mp4: 576x1024 81 words, Done. (0.007s)\n",
            "video 1/1 (479/858) /content/drive/MyDrive/Allweights/video.mp4: 576x1024 70 words, Done. (0.007s)\n",
            "video 1/1 (480/858) /content/drive/MyDrive/Allweights/video.mp4: 576x1024 60 words, Done. (0.007s)\n",
            "video 1/1 (481/858) /content/drive/MyDrive/Allweights/video.mp4: 576x1024 69 words, Done. (0.007s)\n",
            "video 1/1 (482/858) /content/drive/MyDrive/Allweights/video.mp4: 576x1024 143 words, Done. (0.007s)\n",
            "video 1/1 (483/858) /content/drive/MyDrive/Allweights/video.mp4: 576x1024 181 words, Done. (0.007s)\n",
            "video 1/1 (484/858) /content/drive/MyDrive/Allweights/video.mp4: 576x1024 303 words, Done. (0.009s)\n",
            "video 1/1 (485/858) /content/drive/MyDrive/Allweights/video.mp4: 576x1024 320 words, Done. (0.008s)\n",
            "video 1/1 (486/858) /content/drive/MyDrive/Allweights/video.mp4: 576x1024 335 words, Done. (0.008s)\n",
            "video 1/1 (487/858) /content/drive/MyDrive/Allweights/video.mp4: 576x1024 330 words, Done. (0.008s)\n",
            "video 1/1 (488/858) /content/drive/MyDrive/Allweights/video.mp4: 576x1024 347 words, Done. (0.009s)\n",
            "video 1/1 (489/858) /content/drive/MyDrive/Allweights/video.mp4: 576x1024 334 words, Done. (0.008s)\n",
            "video 1/1 (490/858) /content/drive/MyDrive/Allweights/video.mp4: 576x1024 322 words, Done. (0.008s)\n",
            "video 1/1 (491/858) /content/drive/MyDrive/Allweights/video.mp4: 576x1024 293 words, Done. (0.009s)\n",
            "video 1/1 (492/858) /content/drive/MyDrive/Allweights/video.mp4: 576x1024 295 words, Done. (0.008s)\n",
            "video 1/1 (493/858) /content/drive/MyDrive/Allweights/video.mp4: 576x1024 284 words, Done. (0.008s)\n",
            "video 1/1 (494/858) /content/drive/MyDrive/Allweights/video.mp4: 576x1024 283 words, Done. (0.008s)\n",
            "video 1/1 (495/858) /content/drive/MyDrive/Allweights/video.mp4: 576x1024 321 words, Done. (0.008s)\n",
            "video 1/1 (496/858) /content/drive/MyDrive/Allweights/video.mp4: 576x1024 326 words, Done. (0.008s)\n",
            "video 1/1 (497/858) /content/drive/MyDrive/Allweights/video.mp4: 576x1024 341 words, Done. (0.008s)\n",
            "video 1/1 (498/858) /content/drive/MyDrive/Allweights/video.mp4: 576x1024 340 words, Done. (0.008s)\n",
            "video 1/1 (499/858) /content/drive/MyDrive/Allweights/video.mp4: 576x1024 345 words, Done. (0.008s)\n",
            "video 1/1 (500/858) /content/drive/MyDrive/Allweights/video.mp4: 576x1024 339 words, Done. (0.010s)\n",
            "video 1/1 (501/858) /content/drive/MyDrive/Allweights/video.mp4: 576x1024 332 words, Done. (0.009s)\n",
            "video 1/1 (502/858) /content/drive/MyDrive/Allweights/video.mp4: 576x1024 335 words, Done. (0.009s)\n",
            "video 1/1 (503/858) /content/drive/MyDrive/Allweights/video.mp4: 576x1024 335 words, Done. (0.009s)\n",
            "video 1/1 (504/858) /content/drive/MyDrive/Allweights/video.mp4: 576x1024 336 words, Done. (0.010s)\n",
            "video 1/1 (505/858) /content/drive/MyDrive/Allweights/video.mp4: 576x1024 340 words, Done. (0.008s)\n",
            "video 1/1 (506/858) /content/drive/MyDrive/Allweights/video.mp4: 576x1024 334 words, Done. (0.008s)\n",
            "video 1/1 (507/858) /content/drive/MyDrive/Allweights/video.mp4: 576x1024 334 words, Done. (0.008s)\n",
            "video 1/1 (508/858) /content/drive/MyDrive/Allweights/video.mp4: 576x1024 337 words, Done. (0.008s)\n",
            "video 1/1 (509/858) /content/drive/MyDrive/Allweights/video.mp4: 576x1024 335 words, Done. (0.008s)\n",
            "video 1/1 (510/858) /content/drive/MyDrive/Allweights/video.mp4: 576x1024 337 words, Done. (0.008s)\n",
            "video 1/1 (511/858) /content/drive/MyDrive/Allweights/video.mp4: 576x1024 336 words, Done. (0.009s)\n",
            "video 1/1 (512/858) /content/drive/MyDrive/Allweights/video.mp4: 576x1024 336 words, Done. (0.008s)\n",
            "video 1/1 (513/858) /content/drive/MyDrive/Allweights/video.mp4: 576x1024 337 words, Done. (0.009s)\n",
            "video 1/1 (514/858) /content/drive/MyDrive/Allweights/video.mp4: 576x1024 335 words, Done. (0.008s)\n",
            "video 1/1 (515/858) /content/drive/MyDrive/Allweights/video.mp4: 576x1024 330 words, Done. (0.008s)\n",
            "video 1/1 (516/858) /content/drive/MyDrive/Allweights/video.mp4: 576x1024 336 words, Done. (0.007s)\n",
            "video 1/1 (517/858) /content/drive/MyDrive/Allweights/video.mp4: 576x1024 335 words, Done. (0.008s)\n",
            "video 1/1 (518/858) /content/drive/MyDrive/Allweights/video.mp4: 576x1024 339 words, Done. (0.008s)\n",
            "video 1/1 (519/858) /content/drive/MyDrive/Allweights/video.mp4: 576x1024 218 words, Done. (0.008s)\n",
            "video 1/1 (520/858) /content/drive/MyDrive/Allweights/video.mp4: 576x1024 179 words, Done. (0.008s)\n",
            "video 1/1 (521/858) /content/drive/MyDrive/Allweights/video.mp4: 576x1024 81 words, Done. (0.007s)\n",
            "video 1/1 (522/858) /content/drive/MyDrive/Allweights/video.mp4: 576x1024 71 words, Done. (0.007s)\n",
            "video 1/1 (523/858) /content/drive/MyDrive/Allweights/video.mp4: 576x1024 25 words, Done. (0.007s)\n",
            "video 1/1 (524/858) /content/drive/MyDrive/Allweights/video.mp4: 576x1024 15 words, Done. (0.007s)\n",
            "video 1/1 (525/858) /content/drive/MyDrive/Allweights/video.mp4: 576x1024 5 words, Done. (0.007s)\n",
            "video 1/1 (526/858) /content/drive/MyDrive/Allweights/video.mp4: 576x1024 2 words, Done. (0.007s)\n",
            "video 1/1 (527/858) /content/drive/MyDrive/Allweights/video.mp4: 576x1024 9 words, Done. (0.007s)\n",
            "video 1/1 (528/858) /content/drive/MyDrive/Allweights/video.mp4: 576x1024 5 words, Done. (0.007s)\n",
            "video 1/1 (529/858) /content/drive/MyDrive/Allweights/video.mp4: 576x1024 8 words, Done. (0.007s)\n",
            "\u001b[0;36m[h264 @ 0x55dd20bcdf80] \u001b[0m\u001b[1;31mInvalid NAL unit size (9565 > 7540).\n",
            "\u001b[0m\u001b[0;36m[h264 @ 0x55dd20bcdf80] \u001b[0m\u001b[1;31mError splitting the input into NAL units.\n",
            "\u001b[0mvideo 1/1 (530/858) /content/drive/MyDrive/Allweights/video.mp4: 576x1024 1 word, Done. (0.007s)\n",
            "\u001b[0;35m[mov,mp4,m4a,3gp,3g2,mj2 @ 0x55dc908cd200] \u001b[0m\u001b[1;31mstream 0, offset 0x4007e9: partial file\n",
            "\u001b[0m\u001b[0;35m[mov,mp4,m4a,3gp,3g2,mj2 @ 0x55dc908cd200] \u001b[0m\u001b[1;31mstream 1, offset 0x40a273: partial file\n",
            "\u001b[0m\u001b[0;35m[mov,mp4,m4a,3gp,3g2,mj2 @ 0x55dc908cd200] \u001b[0m\u001b[1;31mstream 1, offset 0x40a527: partial file\n",
            "\u001b[0m\u001b[0;35m[mov,mp4,m4a,3gp,3g2,mj2 @ 0x55dc908cd200] \u001b[0m\u001b[1;31mstream 1, offset 0x40a7cf: partial file\n",
            "\u001b[0m\u001b[0;35m[mov,mp4,m4a,3gp,3g2,mj2 @ 0x55dc908cd200] \u001b[0m\u001b[1;31mstream 1, offset 0x40aa72: partial file\n",
            "\u001b[0m\u001b[0;35m[mov,mp4,m4a,3gp,3g2,mj2 @ 0x55dc908cd200] \u001b[0m\u001b[1;31mstream 1, offset 0x40ad20: partial file\n",
            "\u001b[0m\u001b[0;35m[mov,mp4,m4a,3gp,3g2,mj2 @ 0x55dc908cd200] \u001b[0m\u001b[1;31mstream 1, offset 0x40b274: partial file\n",
            "\u001b[0m\u001b[0;35m[mov,mp4,m4a,3gp,3g2,mj2 @ 0x55dc908cd200] \u001b[0m\u001b[1;31mstream 1, offset 0x40b522: partial file\n",
            "\u001b[0m\u001b[0;35m[mov,mp4,m4a,3gp,3g2,mj2 @ 0x55dc908cd200] \u001b[0m\u001b[1;31mstream 1, offset 0x40b7d0: partial file\n",
            "\u001b[0m\u001b[0;35m[mov,mp4,m4a,3gp,3g2,mj2 @ 0x55dc908cd200] \u001b[0m\u001b[1;31mstream 1, offset 0x40ba76: partial file\n",
            "\u001b[0m\u001b[0;35m[mov,mp4,m4a,3gp,3g2,mj2 @ 0x55dc908cd200] \u001b[0m\u001b[1;31mstream 1, offset 0x40bd29: partial file\n",
            "\u001b[0m\u001b[0;35m[mov,mp4,m4a,3gp,3g2,mj2 @ 0x55dc908cd200] \u001b[0m\u001b[1;31mstream 1, offset 0x4188ed: partial file\n",
            "\u001b[0m\u001b[0;35m[mov,mp4,m4a,3gp,3g2,mj2 @ 0x55dc908cd200] \u001b[0m\u001b[1;31mstream 1, offset 0x418b9a: partial file\n",
            "\u001b[0m\u001b[0;35m[mov,mp4,m4a,3gp,3g2,mj2 @ 0x55dc908cd200] \u001b[0m\u001b[1;31mstream 1, offset 0x418e4a: partial file\n",
            "\u001b[0m\u001b[0;35m[mov,mp4,m4a,3gp,3g2,mj2 @ 0x55dc908cd200] \u001b[0m\u001b[1;31mstream 1, offset 0x41911a: partial file\n",
            "\u001b[0m\u001b[0;35m[mov,mp4,m4a,3gp,3g2,mj2 @ 0x55dc908cd200] \u001b[0m\u001b[1;31mstream 1, offset 0x419461: partial file\n",
            "\u001b[0m\u001b[0;35m[mov,mp4,m4a,3gp,3g2,mj2 @ 0x55dc908cd200] \u001b[0m\u001b[1;31mstream 1, offset 0x419a39: partial file\n",
            "\u001b[0m\u001b[0;35m[mov,mp4,m4a,3gp,3g2,mj2 @ 0x55dc908cd200] \u001b[0m\u001b[1;31mstream 1, offset 0x419d0e: partial file\n",
            "\u001b[0m\u001b[0;35m[mov,mp4,m4a,3gp,3g2,mj2 @ 0x55dc908cd200] \u001b[0m\u001b[1;31mstream 1, offset 0x419fee: partial file\n",
            "\u001b[0m\u001b[0;35m[mov,mp4,m4a,3gp,3g2,mj2 @ 0x55dc908cd200] \u001b[0m\u001b[1;31mstream 1, offset 0x41a298: partial file\n",
            "\u001b[0m\u001b[0;35m[mov,mp4,m4a,3gp,3g2,mj2 @ 0x55dc908cd200] \u001b[0m\u001b[1;31mstream 1, offset 0x41a4ec: partial file\n",
            "\u001b[0m\u001b[0;35m[mov,mp4,m4a,3gp,3g2,mj2 @ 0x55dc908cd200] \u001b[0m\u001b[1;31mstream 0, offset 0x425702: partial file\n",
            "\u001b[0m\u001b[0;35m[mov,mp4,m4a,3gp,3g2,mj2 @ 0x55dc908cd200] \u001b[0m\u001b[1;31mstream 1, offset 0x4291e1: partial file\n",
            "\u001b[0m\u001b[0;35m[mov,mp4,m4a,3gp,3g2,mj2 @ 0x55dc908cd200] \u001b[0m\u001b[1;31mstream 1, offset 0x4296f4: partial file\n",
            "\u001b[0m\u001b[0;35m[mov,mp4,m4a,3gp,3g2,mj2 @ 0x55dc908cd200] \u001b[0m\u001b[1;31mstream 1, offset 0x429977: partial file\n",
            "\u001b[0m\u001b[0;35m[mov,mp4,m4a,3gp,3g2,mj2 @ 0x55dc908cd200] \u001b[0m\u001b[1;31mstream 1, offset 0x429c19: partial file\n",
            "\u001b[0m\u001b[0;35m[mov,mp4,m4a,3gp,3g2,mj2 @ 0x55dc908cd200] \u001b[0m\u001b[1;31mstream 1, offset 0x429eb2: partial file\n",
            "\u001b[0m\u001b[0;35m[mov,mp4,m4a,3gp,3g2,mj2 @ 0x55dc908cd200] \u001b[0m\u001b[1;31mstream 1, offset 0x42a140: partial file\n",
            "\u001b[0m\u001b[0;35m[mov,mp4,m4a,3gp,3g2,mj2 @ 0x55dc908cd200] \u001b[0m\u001b[1;31mstream 1, offset 0x42a3e8: partial file\n",
            "\u001b[0m\u001b[0;35m[mov,mp4,m4a,3gp,3g2,mj2 @ 0x55dc908cd200] \u001b[0m\u001b[1;31mstream 1, offset 0x42a951: partial file\n",
            "\u001b[0m\u001b[0;35m[mov,mp4,m4a,3gp,3g2,mj2 @ 0x55dc908cd200] \u001b[0m\u001b[1;31mstream 1, offset 0x42abef: partial file\n",
            "\u001b[0m\u001b[0;35m[mov,mp4,m4a,3gp,3g2,mj2 @ 0x55dc908cd200] \u001b[0m\u001b[1;31mstream 1, offset 0x42ae8f: partial file\n",
            "\u001b[0m\u001b[0;35m[mov,mp4,m4a,3gp,3g2,mj2 @ 0x55dc908cd200] \u001b[0m\u001b[1;31mstream 0, offset 0x42b12b: partial file\n",
            "\u001b[0m\u001b[0;35m[mov,mp4,m4a,3gp,3g2,mj2 @ 0x55dc908cd200] \u001b[0m\u001b[1;31mstream 1, offset 0x439479: partial file\n",
            "\u001b[0m\u001b[0;35m[mov,mp4,m4a,3gp,3g2,mj2 @ 0x55dc908cd200] \u001b[0m\u001b[1;31mstream 1, offset 0x43971a: partial file\n",
            "\u001b[0m\u001b[0;35m[mov,mp4,m4a,3gp,3g2,mj2 @ 0x55dc908cd200] \u001b[0m\u001b[1;31mstream 1, offset 0x4399bb: partial file\n",
            "\u001b[0m\u001b[0;35m[mov,mp4,m4a,3gp,3g2,mj2 @ 0x55dc908cd200] \u001b[0m\u001b[1;31mstream 1, offset 0x439c72: partial file\n",
            "\u001b[0m\u001b[0;35m[mov,mp4,m4a,3gp,3g2,mj2 @ 0x55dc908cd200] \u001b[0m\u001b[1;31mstream 1, offset 0x439f1f: partial file\n",
            "\u001b[0m\u001b[0;35m[mov,mp4,m4a,3gp,3g2,mj2 @ 0x55dc908cd200] \u001b[0m\u001b[1;31mstream 1, offset 0x43a1ca: partial file\n",
            "\u001b[0m\u001b[0;35m[mov,mp4,m4a,3gp,3g2,mj2 @ 0x55dc908cd200] \u001b[0m\u001b[1;31mstream 1, offset 0x43a724: partial file\n",
            "\u001b[0m\u001b[0;35m[mov,mp4,m4a,3gp,3g2,mj2 @ 0x55dc908cd200] \u001b[0m\u001b[1;31mstream 1, offset 0x43a9e6: partial file\n",
            "\u001b[0m\u001b[0;35m[mov,mp4,m4a,3gp,3g2,mj2 @ 0x55dc908cd200] \u001b[0m\u001b[1;31mstream 1, offset 0x43ac8c: partial file\n",
            "\u001b[0m\u001b[0;35m[mov,mp4,m4a,3gp,3g2,mj2 @ 0x55dc908cd200] \u001b[0m\u001b[1;31mstream 0, offset 0x43af26: partial file\n",
            "\u001b[0m\u001b[0;35m[mov,mp4,m4a,3gp,3g2,mj2 @ 0x55dc908cd200] \u001b[0m\u001b[1;31mstream 0, offset 0x43cd51: partial file\n",
            "\u001b[0m\u001b[0;35m[mov,mp4,m4a,3gp,3g2,mj2 @ 0x55dc908cd200] \u001b[0m\u001b[1;31mstream 1, offset 0x447cb2: partial file\n",
            "\u001b[0m\u001b[0;35m[mov,mp4,m4a,3gp,3g2,mj2 @ 0x55dc908cd200] \u001b[0m\u001b[1;31mstream 1, offset 0x4484a8: partial file\n",
            "\u001b[0m\u001b[0;35m[mov,mp4,m4a,3gp,3g2,mj2 @ 0x55dc908cd200] \u001b[0m\u001b[1;31mstream 1, offset 0x44875b: partial file\n",
            "\u001b[0m\u001b[0;35m[mov,mp4,m4a,3gp,3g2,mj2 @ 0x55dc908cd200] \u001b[0m\u001b[1;31mstream 1, offset 0x448a00: partial file\n",
            "\u001b[0m\u001b[0;35m[mov,mp4,m4a,3gp,3g2,mj2 @ 0x55dc908cd200] \u001b[0m\u001b[1;31mstream 1, offset 0x448ca7: partial file\n",
            "\u001b[0m\u001b[0;35m[mov,mp4,m4a,3gp,3g2,mj2 @ 0x55dc908cd200] \u001b[0m\u001b[1;31mstream 1, offset 0x448f45: partial file\n",
            "\u001b[0m\u001b[0;35m[mov,mp4,m4a,3gp,3g2,mj2 @ 0x55dc908cd200] \u001b[0m\u001b[1;31mstream 1, offset 0x4491ed: partial file\n",
            "\u001b[0m\u001b[0;35m[mov,mp4,m4a,3gp,3g2,mj2 @ 0x55dc908cd200] \u001b[0m\u001b[1;31mstream 1, offset 0x449735: partial file\n",
            "\u001b[0m\u001b[0;35m[mov,mp4,m4a,3gp,3g2,mj2 @ 0x55dc908cd200] \u001b[0m\u001b[1;31mstream 1, offset 0x4499d7: partial file\n",
            "\u001b[0m\u001b[0;35m[mov,mp4,m4a,3gp,3g2,mj2 @ 0x55dc908cd200] \u001b[0m\u001b[1;31mstream 0, offset 0x449ca4: partial file\n",
            "\u001b[0m\u001b[0;35m[mov,mp4,m4a,3gp,3g2,mj2 @ 0x55dc908cd200] \u001b[0m\u001b[1;31mstream 1, offset 0x45758e: partial file\n",
            "\u001b[0m\u001b[0;35m[mov,mp4,m4a,3gp,3g2,mj2 @ 0x55dc908cd200] \u001b[0m\u001b[1;31mstream 1, offset 0x457b30: partial file\n",
            "\u001b[0m\u001b[0;35m[mov,mp4,m4a,3gp,3g2,mj2 @ 0x55dc908cd200] \u001b[0m\u001b[1;31mstream 1, offset 0x457ded: partial file\n",
            "\u001b[0m\u001b[0;35m[mov,mp4,m4a,3gp,3g2,mj2 @ 0x55dc908cd200] \u001b[0m\u001b[1;31mstream 1, offset 0x458069: partial file\n",
            "\u001b[0m\u001b[0;35m[mov,mp4,m4a,3gp,3g2,mj2 @ 0x55dc908cd200] \u001b[0m\u001b[1;31mstream 1, offset 0x458306: partial file\n",
            "\u001b[0m\u001b[0;35m[mov,mp4,m4a,3gp,3g2,mj2 @ 0x55dc908cd200] \u001b[0m\u001b[1;31mstream 1, offset 0x458631: partial file\n",
            "\u001b[0m\u001b[0;35m[mov,mp4,m4a,3gp,3g2,mj2 @ 0x55dc908cd200] \u001b[0m\u001b[1;31mstream 1, offset 0x458bb2: partial file\n",
            "\u001b[0m\u001b[0;35m[mov,mp4,m4a,3gp,3g2,mj2 @ 0x55dc908cd200] \u001b[0m\u001b[1;31mstream 1, offset 0x458e2b: partial file\n",
            "\u001b[0m\u001b[0;35m[mov,mp4,m4a,3gp,3g2,mj2 @ 0x55dc908cd200] \u001b[0m\u001b[1;31mstream 1, offset 0x4590a8: partial file\n",
            "\u001b[0m\u001b[0;35m[mov,mp4,m4a,3gp,3g2,mj2 @ 0x55dc908cd200] \u001b[0m\u001b[1;31mstream 0, offset 0x4593e1: partial file\n",
            "\u001b[0m\u001b[0;35m[mov,mp4,m4a,3gp,3g2,mj2 @ 0x55dc908cd200] \u001b[0m\u001b[1;31mstream 1, offset 0x46986f: partial file\n",
            "\u001b[0m\u001b[0;35m[mov,mp4,m4a,3gp,3g2,mj2 @ 0x55dc908cd200] \u001b[0m\u001b[1;31mstream 1, offset 0x469eb4: partial file\n",
            "\u001b[0m\u001b[0;35m[mov,mp4,m4a,3gp,3g2,mj2 @ 0x55dc908cd200] \u001b[0m\u001b[1;31mstream 1, offset 0x46a0f9: partial file\n",
            "\u001b[0m\u001b[0;35m[mov,mp4,m4a,3gp,3g2,mj2 @ 0x55dc908cd200] \u001b[0m\u001b[1;31mstream 1, offset 0x46a34b: partial file\n",
            "\u001b[0m\u001b[0;35m[mov,mp4,m4a,3gp,3g2,mj2 @ 0x55dc908cd200] \u001b[0m\u001b[1;31mstream 1, offset 0x46a5b7: partial file\n",
            "\u001b[0m\u001b[0;35m[mov,mp4,m4a,3gp,3g2,mj2 @ 0x55dc908cd200] \u001b[0m\u001b[1;31mstream 1, offset 0x46a832: partial file\n",
            "\u001b[0m\u001b[0;35m[mov,mp4,m4a,3gp,3g2,mj2 @ 0x55dc908cd200] \u001b[0m\u001b[1;31mstream 1, offset 0x46aac5: partial file\n",
            "\u001b[0m\u001b[0;35m[mov,mp4,m4a,3gp,3g2,mj2 @ 0x55dc908cd200] \u001b[0m\u001b[1;31mstream 1, offset 0x46aff6: partial file\n",
            "\u001b[0m\u001b[0;35m[mov,mp4,m4a,3gp,3g2,mj2 @ 0x55dc908cd200] \u001b[0m\u001b[1;31mstream 0, offset 0x46b29b: partial file\n",
            "\u001b[0m\u001b[0;35m[mov,mp4,m4a,3gp,3g2,mj2 @ 0x55dc908cd200] \u001b[0m\u001b[1;31mstream 1, offset 0x477bf3: partial file\n",
            "\u001b[0m\u001b[0;35m[mov,mp4,m4a,3gp,3g2,mj2 @ 0x55dc908cd200] \u001b[0m\u001b[1;31mstream 1, offset 0x4783f2: partial file\n",
            "\u001b[0m\u001b[0;35m[mov,mp4,m4a,3gp,3g2,mj2 @ 0x55dc908cd200] \u001b[0m\u001b[1;31mstream 1, offset 0x478699: partial file\n",
            "\u001b[0m\u001b[0;35m[mov,mp4,m4a,3gp,3g2,mj2 @ 0x55dc908cd200] \u001b[0m\u001b[1;31mstream 1, offset 0x478941: partial file\n",
            "\u001b[0m\u001b[0;35m[mov,mp4,m4a,3gp,3g2,mj2 @ 0x55dc908cd200] \u001b[0m\u001b[1;31mstream 1, offset 0x478be5: partial file\n",
            "\u001b[0m\u001b[0;35m[mov,mp4,m4a,3gp,3g2,mj2 @ 0x55dc908cd200] \u001b[0m\u001b[1;31mstream 1, offset 0x478e95: partial file\n",
            "\u001b[0m\u001b[0;35m[mov,mp4,m4a,3gp,3g2,mj2 @ 0x55dc908cd200] \u001b[0m\u001b[1;31mstream 1, offset 0x479141: partial file\n",
            "\u001b[0m\u001b[0;35m[mov,mp4,m4a,3gp,3g2,mj2 @ 0x55dc908cd200] \u001b[0m\u001b[1;31mstream 1, offset 0x47968f: partial file\n",
            "\u001b[0m\u001b[0;35m[mov,mp4,m4a,3gp,3g2,mj2 @ 0x55dc908cd200] \u001b[0m\u001b[1;31mstream 0, offset 0x47993b: partial file\n",
            "\u001b[0m\u001b[0;35m[mov,mp4,m4a,3gp,3g2,mj2 @ 0x55dc908cd200] \u001b[0m\u001b[1;31mstream 0, offset 0x480039: partial file\n",
            "\u001b[0m\u001b[0;35m[mov,mp4,m4a,3gp,3g2,mj2 @ 0x55dc908cd200] \u001b[0m\u001b[1;31mstream 1, offset 0x48ee89: partial file\n",
            "\u001b[0m\u001b[0;35m[mov,mp4,m4a,3gp,3g2,mj2 @ 0x55dc908cd200] \u001b[0m\u001b[1;31mstream 1, offset 0x48f3d3: partial file\n",
            "\u001b[0m\u001b[0;35m[mov,mp4,m4a,3gp,3g2,mj2 @ 0x55dc908cd200] \u001b[0m\u001b[1;31mstream 1, offset 0x48f92d: partial file\n",
            "\u001b[0m\u001b[0;35m[mov,mp4,m4a,3gp,3g2,mj2 @ 0x55dc908cd200] \u001b[0m\u001b[1;31mstream 1, offset 0x48fbd9: partial file\n",
            "\u001b[0m\u001b[0;35m[mov,mp4,m4a,3gp,3g2,mj2 @ 0x55dc908cd200] \u001b[0m\u001b[1;31mstream 1, offset 0x48fe7f: partial file\n",
            "\u001b[0m\u001b[0;35m[mov,mp4,m4a,3gp,3g2,mj2 @ 0x55dc908cd200] \u001b[0m\u001b[1;31mstream 1, offset 0x49012b: partial file\n",
            "\u001b[0m\u001b[0;35m[mov,mp4,m4a,3gp,3g2,mj2 @ 0x55dc908cd200] \u001b[0m\u001b[1;31mstream 1, offset 0x4903c9: partial file\n",
            "\u001b[0m\u001b[0;35m[mov,mp4,m4a,3gp,3g2,mj2 @ 0x55dc908cd200] \u001b[0m\u001b[1;31mstream 1, offset 0x490677: partial file\n",
            "\u001b[0m\u001b[0;35m[mov,mp4,m4a,3gp,3g2,mj2 @ 0x55dc908cd200] \u001b[0m\u001b[1;31mstream 1, offset 0x49d70d: partial file\n",
            "\u001b[0m\u001b[0;35m[mov,mp4,m4a,3gp,3g2,mj2 @ 0x55dc908cd200] \u001b[0m\u001b[1;31mstream 1, offset 0x49df0b: partial file\n",
            "\u001b[0m\u001b[0;35m[mov,mp4,m4a,3gp,3g2,mj2 @ 0x55dc908cd200] \u001b[0m\u001b[1;31mstream 1, offset 0x49e467: partial file\n",
            "\u001b[0m\u001b[0;35m[mov,mp4,m4a,3gp,3g2,mj2 @ 0x55dc908cd200] \u001b[0m\u001b[1;31mstream 1, offset 0x49e715: partial file\n",
            "\u001b[0m\u001b[0;35m[mov,mp4,m4a,3gp,3g2,mj2 @ 0x55dc908cd200] \u001b[0m\u001b[1;31mstream 1, offset 0x49e9c0: partial file\n",
            "\u001b[0m\u001b[0;35m[mov,mp4,m4a,3gp,3g2,mj2 @ 0x55dc908cd200] \u001b[0m\u001b[1;31mstream 1, offset 0x49ec69: partial file\n",
            "\u001b[0m\u001b[0;35m[mov,mp4,m4a,3gp,3g2,mj2 @ 0x55dc908cd200] \u001b[0m\u001b[1;31mstream 1, offset 0x49ef16: partial file\n",
            "\u001b[0m\u001b[0;35m[mov,mp4,m4a,3gp,3g2,mj2 @ 0x55dc908cd200] \u001b[0m\u001b[1;31mstream 1, offset 0x49f462: partial file\n",
            "\u001b[0m\u001b[0;35m[mov,mp4,m4a,3gp,3g2,mj2 @ 0x55dc908cd200] \u001b[0m\u001b[1;31mstream 0, offset 0x49f70a: partial file\n",
            "\u001b[0m\u001b[0;35m[mov,mp4,m4a,3gp,3g2,mj2 @ 0x55dc908cd200] \u001b[0m\u001b[1;31mstream 0, offset 0x4a4705: partial file\n",
            "\u001b[0m\u001b[0;35m[mov,mp4,m4a,3gp,3g2,mj2 @ 0x55dc908cd200] \u001b[0m\u001b[1;31mstream 1, offset 0x4ad782: partial file\n",
            "\u001b[0m\u001b[0;35m[mov,mp4,m4a,3gp,3g2,mj2 @ 0x55dc908cd200] \u001b[0m\u001b[1;31mstream 1, offset 0x4adf79: partial file\n",
            "\u001b[0m\u001b[0;35m[mov,mp4,m4a,3gp,3g2,mj2 @ 0x55dc908cd200] \u001b[0m\u001b[1;31mstream 1, offset 0x4ae4c8: partial file\n",
            "\u001b[0m\u001b[0;35m[mov,mp4,m4a,3gp,3g2,mj2 @ 0x55dc908cd200] \u001b[0m\u001b[1;31mstream 1, offset 0x4ae772: partial file\n",
            "\u001b[0m\u001b[0;35m[mov,mp4,m4a,3gp,3g2,mj2 @ 0x55dc908cd200] \u001b[0m\u001b[1;31mstream 1, offset 0x4aea26: partial file\n",
            "\u001b[0m\u001b[0;35m[mov,mp4,m4a,3gp,3g2,mj2 @ 0x55dc908cd200] \u001b[0m\u001b[1;31mstream 1, offset 0x4aecd6: partial file\n",
            "\u001b[0m\u001b[0;35m[mov,mp4,m4a,3gp,3g2,mj2 @ 0x55dc908cd200] \u001b[0m\u001b[1;31mstream 1, offset 0x4aef7e: partial file\n",
            "\u001b[0m\u001b[0;35m[mov,mp4,m4a,3gp,3g2,mj2 @ 0x55dc908cd200] \u001b[0m\u001b[1;31mstream 1, offset 0x4bd40d: partial file\n",
            "\u001b[0m\u001b[0;35m[mov,mp4,m4a,3gp,3g2,mj2 @ 0x55dc908cd200] \u001b[0m\u001b[1;31mstream 1, offset 0x4bdbf4: partial file\n",
            "\u001b[0m\u001b[0;35m[mov,mp4,m4a,3gp,3g2,mj2 @ 0x55dc908cd200] \u001b[0m\u001b[1;31mstream 1, offset 0x4be140: partial file\n",
            "\u001b[0m\u001b[0;35m[mov,mp4,m4a,3gp,3g2,mj2 @ 0x55dc908cd200] \u001b[0m\u001b[1;31mstream 1, offset 0x4be69b: partial file\n",
            "\u001b[0m\u001b[0;35m[mov,mp4,m4a,3gp,3g2,mj2 @ 0x55dc908cd200] \u001b[0m\u001b[1;31mstream 1, offset 0x4be940: partial file\n",
            "\u001b[0m\u001b[0;35m[mov,mp4,m4a,3gp,3g2,mj2 @ 0x55dc908cd200] \u001b[0m\u001b[1;31mstream 1, offset 0x4bebe4: partial file\n",
            "\u001b[0m\u001b[0;35m[mov,mp4,m4a,3gp,3g2,mj2 @ 0x55dc908cd200] \u001b[0m\u001b[1;31mstream 1, offset 0x4bee8f: partial file\n",
            "\u001b[0m\u001b[0;35m[mov,mp4,m4a,3gp,3g2,mj2 @ 0x55dc908cd200] \u001b[0m\u001b[1;31mstream 1, offset 0x4bf13b: partial file\n",
            "\u001b[0m\u001b[0;35m[mov,mp4,m4a,3gp,3g2,mj2 @ 0x55dc908cd200] \u001b[0m\u001b[1;31mstream 1, offset 0x4ceb06: partial file\n",
            "\u001b[0m\u001b[0;35m[mov,mp4,m4a,3gp,3g2,mj2 @ 0x55dc908cd200] \u001b[0m\u001b[1;31mstream 1, offset 0x4cf319: partial file\n",
            "\u001b[0m\u001b[0;35m[mov,mp4,m4a,3gp,3g2,mj2 @ 0x55dc908cd200] \u001b[0m\u001b[1;31mstream 1, offset 0x4cf869: partial file\n",
            "\u001b[0m\u001b[0;35m[mov,mp4,m4a,3gp,3g2,mj2 @ 0x55dc908cd200] \u001b[0m\u001b[1;31mstream 1, offset 0x4cfdb5: partial file\n",
            "\u001b[0m\u001b[0;35m[mov,mp4,m4a,3gp,3g2,mj2 @ 0x55dc908cd200] \u001b[0m\u001b[1;31mstream 1, offset 0x4d005f: partial file\n",
            "\u001b[0m\u001b[0;35m[mov,mp4,m4a,3gp,3g2,mj2 @ 0x55dc908cd200] \u001b[0m\u001b[1;31mstream 1, offset 0x4d0300: partial file\n",
            "\u001b[0m\u001b[0;35m[mov,mp4,m4a,3gp,3g2,mj2 @ 0x55dc908cd200] \u001b[0m\u001b[1;31mstream 1, offset 0x4d05b6: partial file\n",
            "\u001b[0m\u001b[0;35m[mov,mp4,m4a,3gp,3g2,mj2 @ 0x55dc908cd200] \u001b[0m\u001b[1;31mstream 0, offset 0x4d0861: partial file\n",
            "\u001b[0m\u001b[0;35m[mov,mp4,m4a,3gp,3g2,mj2 @ 0x55dc908cd200] \u001b[0m\u001b[1;31mstream 1, offset 0x4db8f0: partial file\n",
            "\u001b[0m\u001b[0;35m[mov,mp4,m4a,3gp,3g2,mj2 @ 0x55dc908cd200] \u001b[0m\u001b[1;31mstream 1, offset 0x4dbe2b: partial file\n",
            "\u001b[0m\u001b[0;35m[mov,mp4,m4a,3gp,3g2,mj2 @ 0x55dc908cd200] \u001b[0m\u001b[1;31mstream 1, offset 0x4dc62d: partial file\n",
            "\u001b[0m\u001b[0;35m[mov,mp4,m4a,3gp,3g2,mj2 @ 0x55dc908cd200] \u001b[0m\u001b[1;31mstream 1, offset 0x4dc8c8: partial file\n",
            "\u001b[0m\u001b[0;35m[mov,mp4,m4a,3gp,3g2,mj2 @ 0x55dc908cd200] \u001b[0m\u001b[1;31mstream 1, offset 0x4dcb74: partial file\n",
            "\u001b[0m\u001b[0;35m[mov,mp4,m4a,3gp,3g2,mj2 @ 0x55dc908cd200] \u001b[0m\u001b[1;31mstream 1, offset 0x4dce21: partial file\n",
            "\u001b[0m\u001b[0;35m[mov,mp4,m4a,3gp,3g2,mj2 @ 0x55dc908cd200] \u001b[0m\u001b[1;31mstream 1, offset 0x4dd0d2: partial file\n",
            "\u001b[0m\u001b[0;35m[mov,mp4,m4a,3gp,3g2,mj2 @ 0x55dc908cd200] \u001b[0m\u001b[1;31mstream 0, offset 0x4dd374: partial file\n",
            "\u001b[0m\u001b[0;35m[mov,mp4,m4a,3gp,3g2,mj2 @ 0x55dc908cd200] \u001b[0m\u001b[1;31mstream 0, offset 0x4df882: partial file\n",
            "\u001b[0m\u001b[0;35m[mov,mp4,m4a,3gp,3g2,mj2 @ 0x55dc908cd200] \u001b[0m\u001b[1;31mstream 1, offset 0x4ea4a8: partial file\n",
            "\u001b[0m\u001b[0;35m[mov,mp4,m4a,3gp,3g2,mj2 @ 0x55dc908cd200] \u001b[0m\u001b[1;31mstream 1, offset 0x4eacb2: partial file\n",
            "\u001b[0m\u001b[0;35m[mov,mp4,m4a,3gp,3g2,mj2 @ 0x55dc908cd200] \u001b[0m\u001b[1;31mstream 1, offset 0x4eb217: partial file\n",
            "\u001b[0m\u001b[0;35m[mov,mp4,m4a,3gp,3g2,mj2 @ 0x55dc908cd200] \u001b[0m\u001b[1;31mstream 1, offset 0x4eba3f: partial file\n",
            "\u001b[0m\u001b[0;35m[mov,mp4,m4a,3gp,3g2,mj2 @ 0x55dc908cd200] \u001b[0m\u001b[1;31mstream 1, offset 0x4ebcd8: partial file\n",
            "\u001b[0m\u001b[0;35m[mov,mp4,m4a,3gp,3g2,mj2 @ 0x55dc908cd200] \u001b[0m\u001b[1;31mstream 1, offset 0x4ebf76: partial file\n",
            "\u001b[0m\u001b[0;35m[mov,mp4,m4a,3gp,3g2,mj2 @ 0x55dc908cd200] \u001b[0m\u001b[1;31mstream 0, offset 0x4ec21b: partial file\n",
            "\u001b[0m\u001b[0;35m[mov,mp4,m4a,3gp,3g2,mj2 @ 0x55dc908cd200] \u001b[0m\u001b[1;31mstream 1, offset 0x4f9ed4: partial file\n",
            "\u001b[0m\u001b[0;35m[mov,mp4,m4a,3gp,3g2,mj2 @ 0x55dc908cd200] \u001b[0m\u001b[1;31mstream 1, offset 0x4fa49c: partial file\n",
            "\u001b[0m\u001b[0;35m[mov,mp4,m4a,3gp,3g2,mj2 @ 0x55dc908cd200] \u001b[0m\u001b[1;31mstream 1, offset 0x4fad9d: partial file\n",
            "\u001b[0m\u001b[0;35m[mov,mp4,m4a,3gp,3g2,mj2 @ 0x55dc908cd200] \u001b[0m\u001b[1;31mstream 1, offset 0x4fb2d4: partial file\n",
            "\u001b[0m\u001b[0;35m[mov,mp4,m4a,3gp,3g2,mj2 @ 0x55dc908cd200] \u001b[0m\u001b[1;31mstream 1, offset 0x4fb592: partial file\n",
            "\u001b[0m\u001b[0;35m[mov,mp4,m4a,3gp,3g2,mj2 @ 0x55dc908cd200] \u001b[0m\u001b[1;31mstream 1, offset 0x4fb839: partial file\n",
            "\u001b[0m\u001b[0;35m[mov,mp4,m4a,3gp,3g2,mj2 @ 0x55dc908cd200] \u001b[0m\u001b[1;31mstream 0, offset 0x4fbae0: partial file\n",
            "\u001b[0m\u001b[0;35m[mov,mp4,m4a,3gp,3g2,mj2 @ 0x55dc908cd200] \u001b[0m\u001b[1;31mstream 1, offset 0x5114b8: partial file\n",
            "\u001b[0m\u001b[0;35m[mov,mp4,m4a,3gp,3g2,mj2 @ 0x55dc908cd200] \u001b[0m\u001b[1;31mstream 1, offset 0x511bfd: partial file\n",
            "\u001b[0m\u001b[0;35m[mov,mp4,m4a,3gp,3g2,mj2 @ 0x55dc908cd200] \u001b[0m\u001b[1;31mstream 1, offset 0x5120f5: partial file\n",
            "\u001b[0m\u001b[0;35m[mov,mp4,m4a,3gp,3g2,mj2 @ 0x55dc908cd200] \u001b[0m\u001b[1;31mstream 1, offset 0x5128ba: partial file\n",
            "\u001b[0m\u001b[0;35m[mov,mp4,m4a,3gp,3g2,mj2 @ 0x55dc908cd200] \u001b[0m\u001b[1;31mstream 1, offset 0x512e00: partial file\n",
            "\u001b[0m\u001b[0;35m[mov,mp4,m4a,3gp,3g2,mj2 @ 0x55dc908cd200] \u001b[0m\u001b[1;31mstream 1, offset 0x51309c: partial file\n",
            "\u001b[0m\u001b[0;35m[mov,mp4,m4a,3gp,3g2,mj2 @ 0x55dc908cd200] \u001b[0m\u001b[1;31mstream 0, offset 0x513347: partial file\n",
            "\u001b[0m\u001b[0;35m[mov,mp4,m4a,3gp,3g2,mj2 @ 0x55dc908cd200] \u001b[0m\u001b[1;31mstream 1, offset 0x51d852: partial file\n",
            "\u001b[0m\u001b[0;35m[mov,mp4,m4a,3gp,3g2,mj2 @ 0x55dc908cd200] \u001b[0m\u001b[1;31mstream 1, offset 0x51dda7: partial file\n",
            "\u001b[0m\u001b[0;35m[mov,mp4,m4a,3gp,3g2,mj2 @ 0x55dc908cd200] \u001b[0m\u001b[1;31mstream 1, offset 0x51e5a7: partial file\n",
            "\u001b[0m\u001b[0;35m[mov,mp4,m4a,3gp,3g2,mj2 @ 0x55dc908cd200] \u001b[0m\u001b[1;31mstream 1, offset 0x51edac: partial file\n",
            "\u001b[0m\u001b[0;35m[mov,mp4,m4a,3gp,3g2,mj2 @ 0x55dc908cd200] \u001b[0m\u001b[1;31mstream 1, offset 0x51f056: partial file\n",
            "\u001b[0m\u001b[0;35m[mov,mp4,m4a,3gp,3g2,mj2 @ 0x55dc908cd200] \u001b[0m\u001b[1;31mstream 0, offset 0x51f2fe: partial file\n",
            "\u001b[0m\u001b[0;35m[mov,mp4,m4a,3gp,3g2,mj2 @ 0x55dc908cd200] \u001b[0m\u001b[1;31mstream 1, offset 0x52bd2b: partial file\n",
            "\u001b[0m\u001b[0;35m[mov,mp4,m4a,3gp,3g2,mj2 @ 0x55dc908cd200] \u001b[0m\u001b[1;31mstream 1, offset 0x52c52b: partial file\n",
            "\u001b[0m\u001b[0;35m[mov,mp4,m4a,3gp,3g2,mj2 @ 0x55dc908cd200] \u001b[0m\u001b[1;31mstream 1, offset 0x52ca81: partial file\n",
            "\u001b[0m\u001b[0;35m[mov,mp4,m4a,3gp,3g2,mj2 @ 0x55dc908cd200] \u001b[0m\u001b[1;31mstream 1, offset 0x52d294: partial file\n",
            "\u001b[0m\u001b[0;35m[mov,mp4,m4a,3gp,3g2,mj2 @ 0x55dc908cd200] \u001b[0m\u001b[1;31mstream 1, offset 0x52da96: partial file\n",
            "\u001b[0m\u001b[0;35m[mov,mp4,m4a,3gp,3g2,mj2 @ 0x55dc908cd200] \u001b[0m\u001b[1;31mstream 0, offset 0x52dd58: partial file\n",
            "\u001b[0m\u001b[0;35m[mov,mp4,m4a,3gp,3g2,mj2 @ 0x55dc908cd200] \u001b[0m\u001b[1;31mstream 1, offset 0x53c063: partial file\n",
            "\u001b[0m\u001b[0;35m[mov,mp4,m4a,3gp,3g2,mj2 @ 0x55dc908cd200] \u001b[0m\u001b[1;31mstream 1, offset 0x53c68c: partial file\n",
            "\u001b[0m\u001b[0;35m[mov,mp4,m4a,3gp,3g2,mj2 @ 0x55dc908cd200] \u001b[0m\u001b[1;31mstream 1, offset 0x53cdcf: partial file\n",
            "\u001b[0m\u001b[0;35m[mov,mp4,m4a,3gp,3g2,mj2 @ 0x55dc908cd200] \u001b[0m\u001b[1;31mstream 1, offset 0x53d724: partial file\n",
            "\u001b[0m\u001b[0;35m[mov,mp4,m4a,3gp,3g2,mj2 @ 0x55dc908cd200] \u001b[0m\u001b[1;31mstream 1, offset 0x53dc80: partial file\n",
            "\u001b[0m\u001b[0;35m[mov,mp4,m4a,3gp,3g2,mj2 @ 0x55dc908cd200] \u001b[0m\u001b[1;31mstream 0, offset 0x53df14: partial file\n",
            "\u001b[0m\u001b[0;35m[mov,mp4,m4a,3gp,3g2,mj2 @ 0x55dc908cd200] \u001b[0m\u001b[1;31mstream 1, offset 0x54ec82: partial file\n",
            "\u001b[0m\u001b[0;35m[mov,mp4,m4a,3gp,3g2,mj2 @ 0x55dc908cd200] \u001b[0m\u001b[1;31mstream 1, offset 0x54f1ae: partial file\n",
            "\u001b[0m\u001b[0;35m[mov,mp4,m4a,3gp,3g2,mj2 @ 0x55dc908cd200] \u001b[0m\u001b[1;31mstream 1, offset 0x54f95a: partial file\n",
            "\u001b[0m\u001b[0;35m[mov,mp4,m4a,3gp,3g2,mj2 @ 0x55dc908cd200] \u001b[0m\u001b[1;31mstream 1, offset 0x550102: partial file\n",
            "\u001b[0m\u001b[0;35m[mov,mp4,m4a,3gp,3g2,mj2 @ 0x55dc908cd200] \u001b[0m\u001b[1;31mstream 0, offset 0x550637: partial file\n",
            "\u001b[0m\u001b[0;35m[mov,mp4,m4a,3gp,3g2,mj2 @ 0x55dc908cd200] \u001b[0m\u001b[1;31mstream 1, offset 0x55e3c8: partial file\n",
            "\u001b[0m\u001b[0;35m[mov,mp4,m4a,3gp,3g2,mj2 @ 0x55dc908cd200] \u001b[0m\u001b[1;31mstream 1, offset 0x55e8ef: partial file\n",
            "\u001b[0m\u001b[0;35m[mov,mp4,m4a,3gp,3g2,mj2 @ 0x55dc908cd200] \u001b[0m\u001b[1;31mstream 1, offset 0x55f12f: partial file\n",
            "\u001b[0m\u001b[0;35m[mov,mp4,m4a,3gp,3g2,mj2 @ 0x55dc908cd200] \u001b[0m\u001b[1;31mstream 1, offset 0x55f8c9: partial file\n",
            "\u001b[0m\u001b[0;35m[mov,mp4,m4a,3gp,3g2,mj2 @ 0x55dc908cd200] \u001b[0m\u001b[1;31mstream 1, offset 0x56eeb3: partial file\n",
            "\u001b[0m\u001b[0;35m[mov,mp4,m4a,3gp,3g2,mj2 @ 0x55dc908cd200] \u001b[0m\u001b[1;31mstream 1, offset 0x56f409: partial file\n",
            "\u001b[0m\u001b[0;35m[mov,mp4,m4a,3gp,3g2,mj2 @ 0x55dc908cd200] \u001b[0m\u001b[1;31mstream 1, offset 0x56fbfc: partial file\n",
            "\u001b[0m\u001b[0;35m[mov,mp4,m4a,3gp,3g2,mj2 @ 0x55dc908cd200] \u001b[0m\u001b[1;31mstream 1, offset 0x570497: partial file\n",
            "\u001b[0m\u001b[0;35m[mov,mp4,m4a,3gp,3g2,mj2 @ 0x55dc908cd200] \u001b[0m\u001b[1;31mstream 1, offset 0x57f363: partial file\n",
            "\u001b[0m\u001b[0;35m[mov,mp4,m4a,3gp,3g2,mj2 @ 0x55dc908cd200] \u001b[0m\u001b[1;31mstream 1, offset 0x57f8a8: partial file\n",
            "\u001b[0m\u001b[0;35m[mov,mp4,m4a,3gp,3g2,mj2 @ 0x55dc908cd200] \u001b[0m\u001b[1;31mstream 1, offset 0x58009d: partial file\n",
            "\u001b[0m\u001b[0;35m[mov,mp4,m4a,3gp,3g2,mj2 @ 0x55dc908cd200] \u001b[0m\u001b[1;31mstream 1, offset 0x58089b: partial file\n",
            "\u001b[0m\u001b[0;35m[mov,mp4,m4a,3gp,3g2,mj2 @ 0x55dc908cd200] \u001b[0m\u001b[1;31mstream 1, offset 0x58119d: partial file\n",
            "\u001b[0m\u001b[0;35m[mov,mp4,m4a,3gp,3g2,mj2 @ 0x55dc908cd200] \u001b[0m\u001b[1;31mstream 1, offset 0x58ff15: partial file\n",
            "\u001b[0m\u001b[0;35m[mov,mp4,m4a,3gp,3g2,mj2 @ 0x55dc908cd200] \u001b[0m\u001b[1;31mstream 1, offset 0x590404: partial file\n",
            "\u001b[0mResults saved to runs/detect/exp8\n",
            "Done. (17.788s)\n"
          ],
          "name": "stdout"
        }
      ]
    },
    {
      "cell_type": "markdown",
      "metadata": {
        "id": "0eq1SMWl6Sfn"
      },
      "source": [
        "# 2. Test\n",
        "Test a model's accuracy on [COCO](https://cocodataset.org/#home) val or test-dev datasets. Models are downloaded automatically from the [latest YOLOv5 release](https://github.com/ultralytics/yolov5/releases). To show results by class use the `--verbose` flag. Note that `pycocotools` metrics may be ~1% better than the equivalent repo metrics, as is visible below, due to slight differences in mAP computation."
      ]
    },
    {
      "cell_type": "markdown",
      "metadata": {
        "id": "eyTZYGgRjnMc"
      },
      "source": [
        "## COCO val2017\n",
        "Download [COCO val 2017](https://github.com/ultralytics/yolov5/blob/74b34872fdf41941cddcf243951cdb090fbac17b/data/coco.yaml#L14) dataset (1GB - 5000 images), and test model accuracy."
      ]
    },
    {
      "cell_type": "code",
      "metadata": {
        "id": "WQPtK1QYVaD_"
      },
      "source": [
        "!cp /content/yolov5/yolov5/runs/detect/exp8/video.mp4 /content/drive/MyDrive/Allweights/best100presentWordButBigBrigh576res1024.mp4"
      ],
      "execution_count": null,
      "outputs": []
    },
    {
      "cell_type": "code",
      "metadata": {
        "id": "X58w8JLpMnjH"
      },
      "source": [
        "# Run YOLOv5x on COCO val2017\n",
        "!python test.py --weights yolov5x.pt --data coco.yaml --img 640 --iou 0.65 --half"
      ],
      "execution_count": null,
      "outputs": []
    },
    {
      "cell_type": "markdown",
      "metadata": {
        "id": "rc_KbFk0juX2"
      },
      "source": [
        "## COCO test-dev2017\n",
        "Download [COCO test2017](https://github.com/ultralytics/yolov5/blob/74b34872fdf41941cddcf243951cdb090fbac17b/data/coco.yaml#L15) dataset (7GB - 40,000 images), to test model accuracy on test-dev set (**20,000 images, no labels**). Results are saved to a `*.json` file which should be **zipped** and submitted to the evaluation server at https://competitions.codalab.org/competitions/20794."
      ]
    },
    {
      "cell_type": "code",
      "metadata": {
        "id": "V0AJnSeCIHyJ"
      },
      "source": [
        "# Download COCO test-dev2017\n",
        "torch.hub.download_url_to_file('https://github.com/ultralytics/yolov5/releases/download/v1.0/coco2017labels.zip', 'tmp.zip')\n",
        "!unzip -q tmp.zip -d ../ && rm tmp.zip # unzip labels\n",
        "!f=\"test2017.zip\" && curl http://images.cocodataset.org/zips/$f -o $f && unzip -q $f && rm $f  # 7GB,  41k images\n",
        "%mv ./test2017 ../coco/images  # move to /coco"
      ],
      "execution_count": null,
      "outputs": []
    },
    {
      "cell_type": "code",
      "metadata": {
        "id": "29GJXAP_lPrt"
      },
      "source": [
        "# Run YOLOv5s on COCO test-dev2017 using --task test\n",
        "!python test.py --weights yolov5s.pt --data coco.yaml --task test"
      ],
      "execution_count": null,
      "outputs": []
    },
    {
      "cell_type": "markdown",
      "metadata": {
        "id": "VUOiNLtMP5aG"
      },
      "source": [
        "# 3. Train\n",
        "\n",
        "Download [COCO128](https://www.kaggle.com/ultralytics/coco128), a small 128-image tutorial dataset, start tensorboard and train YOLOv5s from a pretrained checkpoint for 3 epochs (note actual training is typically much longer, around **300-1000 epochs**, depending on your dataset)."
      ]
    },
    {
      "cell_type": "code",
      "metadata": {
        "id": "Knxi2ncxWffW",
        "colab": {
          "base_uri": "https://localhost:8080/",
          "height": 66,
          "referenced_widgets": [
            "217ca488c82a4b7a80318b70887a556e",
            "4e63af16f1084ca98a6fa5a282f2a81e",
            "49f4b3c7f6ff42b4b9132a8550e12186",
            "8ec9e1a4883245daaf029458ee09721f",
            "9d3e775ee11e4cf4b587b64fbc3cc6f7",
            "70f68a9a51ac46e6ab7e51fb4fc6bda3",
            "fdb8ab377c114bc3b862ba76eb93cef7",
            "cd267c153c244621a1f50706d2ddc897"
          ]
        },
        "outputId": "9e4788c2-e1d4-4a13-c3d2-984f5df7ffab"
      },
      "source": [
        "# Download COCO128\n",
        "torch.hub.download_url_to_file('https://github.com/ultralytics/yolov5/releases/download/v1.0/coco128.zip', 'tmp.zip')\n",
        "!unzip -q tmp.zip -d ../ && rm tmp.zip"
      ],
      "execution_count": null,
      "outputs": [
        {
          "output_type": "display_data",
          "data": {
            "application/vnd.jupyter.widget-view+json": {
              "model_id": "217ca488c82a4b7a80318b70887a556e",
              "version_minor": 0,
              "version_major": 2
            },
            "text/plain": [
              "HBox(children=(FloatProgress(value=0.0, max=22091032.0), HTML(value='')))"
            ]
          },
          "metadata": {
            "tags": []
          }
        },
        {
          "output_type": "stream",
          "text": [
            "\n"
          ],
          "name": "stdout"
        }
      ]
    },
    {
      "cell_type": "markdown",
      "metadata": {
        "id": "_pOkGLv1dMqh"
      },
      "source": [
        "Train a YOLOv5s model on [COCO128](https://www.kaggle.com/ultralytics/coco128) with `--data coco128.yaml`, starting from pretrained `--weights yolov5s.pt`, or from randomly initialized `--weights '' --cfg yolov5s.yaml`. Models are downloaded automatically from the [latest YOLOv5 release](https://github.com/ultralytics/yolov5/releases), and **COCO, COCO128, and VOC datasets are downloaded automatically** on first use.\n",
        "\n",
        "All training results are saved to `runs/train/` with incrementing run directories, i.e. `runs/train/exp2`, `runs/train/exp3` etc.\n"
      ]
    },
    {
      "cell_type": "code",
      "metadata": {
        "id": "bOy5KI2ncnWd"
      },
      "source": [
        "# Tensorboard  (optional)\n",
        "%load_ext tensorboard\n",
        "%tensorboard --logdir runs/train"
      ],
      "execution_count": null,
      "outputs": []
    },
    {
      "cell_type": "code",
      "metadata": {
        "id": "2fLAV42oNb7M"
      },
      "source": [
        "# Weights & Biases  (optional)\n",
        "%pip install -q wandb\n",
        "import wandb\n",
        "wandb.login()"
      ],
      "execution_count": null,
      "outputs": []
    },
    {
      "cell_type": "code",
      "metadata": {
        "id": "1NcFxRcFdJ_O"
      },
      "source": [
        "# Train YOLOv5s on COCO128 for 3 epochs\n",
        "!python train.py --img 640 --batch 16 --epochs 3 --data coco128.yaml --weights yolov5s.pt --cache"
      ],
      "execution_count": null,
      "outputs": []
    },
    {
      "cell_type": "markdown",
      "metadata": {
        "id": "15glLzbQx5u0"
      },
      "source": [
        "# 4. Visualize"
      ]
    },
    {
      "cell_type": "markdown",
      "metadata": {
        "id": "DLI1JmHU7B0l"
      },
      "source": [
        "## Weights & Biases Logging 🌟 NEW\n",
        "\n",
        "[Weights & Biases](https://wandb.ai/site?utm_campaign=repo_yolo_notebook) (W&B) is now integrated with YOLOv5 for real-time visualization and cloud logging of training runs. This allows for better run comparison and introspection, as well improved visibility and collaboration for teams. To enable W&B `pip install wandb`, and then train normally (you will be guided through setup on first use). \n",
        "\n",
        "During training you will see live updates at [https://wandb.ai/home](https://wandb.ai/home?utm_campaign=repo_yolo_notebook), and you can create and share detailed [Reports](https://wandb.ai/glenn-jocher/yolov5_tutorial/reports/YOLOv5-COCO128-Tutorial-Results--VmlldzozMDI5OTY) of your results. For more information see the [YOLOv5 Weights & Biases Tutorial](https://github.com/ultralytics/yolov5/issues/1289). \n",
        "\n",
        "<img src=\"https://user-images.githubusercontent.com/26833433/98184457-bd3da580-1f0a-11eb-8461-95d908a71893.jpg\" width=\"800\">"
      ]
    },
    {
      "cell_type": "markdown",
      "metadata": {
        "id": "-WPvRbS5Swl6"
      },
      "source": [
        "## Local Logging\n",
        "\n",
        "All results are logged by default to `runs/train`, with a new experiment directory created for each new training as `runs/train/exp2`, `runs/train/exp3`, etc. View train and test jpgs to see mosaics, labels, predictions and augmentation effects. Note a **Mosaic Dataloader** is used for training (shown below), a new concept developed by Ultralytics and first featured in [YOLOv4](https://arxiv.org/abs/2004.10934)."
      ]
    },
    {
      "cell_type": "code",
      "metadata": {
        "id": "riPdhraOTCO0"
      },
      "source": [
        "Image(filename='runs/train/exp/train_batch0.jpg', width=800)  # train batch 0 mosaics and labels\n",
        "Image(filename='runs/train/exp/test_batch0_labels.jpg', width=800)  # test batch 0 labels\n",
        "Image(filename='runs/train/exp/test_batch0_pred.jpg', width=800)  # test batch 0 predictions"
      ],
      "execution_count": null,
      "outputs": []
    },
    {
      "cell_type": "markdown",
      "metadata": {
        "id": "OYG4WFEnTVrI"
      },
      "source": [
        "> <img src=\"https://user-images.githubusercontent.com/26833433/83667642-90fcb200-a583-11ea-8fa3-338bbf7da194.jpeg\" width=\"750\">  \n",
        "`train_batch0.jpg` shows train batch 0 mosaics and labels\n",
        "\n",
        "> <img src=\"https://user-images.githubusercontent.com/26833433/83667626-8c37fe00-a583-11ea-997b-0923fe59b29b.jpeg\" width=\"750\">  \n",
        "`test_batch0_labels.jpg` shows test batch 0 labels\n",
        "\n",
        "> <img src=\"https://user-images.githubusercontent.com/26833433/83667635-90641b80-a583-11ea-8075-606316cebb9c.jpeg\" width=\"750\">  \n",
        "`test_batch0_pred.jpg` shows test batch 0 _predictions_\n"
      ]
    },
    {
      "cell_type": "markdown",
      "metadata": {
        "id": "7KN5ghjE6ZWh"
      },
      "source": [
        "Training losses and performance metrics are also logged to [Tensorboard](https://www.tensorflow.org/tensorboard) and a custom `results.txt` logfile which is plotted as `results.png` (below) after training completes. Here we show YOLOv5s trained on COCO128 to 300 epochs, starting from scratch (blue), and from pretrained `--weights yolov5s.pt` (orange)."
      ]
    },
    {
      "cell_type": "code",
      "metadata": {
        "id": "MDznIqPF7nk3"
      },
      "source": [
        "from utils.plots import plot_results \n",
        "plot_results(save_dir='runs/train/exp')  # plot all results*.txt as results.png\n",
        "Image(filename='runs/train/exp/results.png', width=800)"
      ],
      "execution_count": null,
      "outputs": []
    },
    {
      "cell_type": "markdown",
      "metadata": {
        "id": "lfrEegCSW3fK"
      },
      "source": [
        "<img src=\"https://user-images.githubusercontent.com/26833433/97808309-8182b180-1c66-11eb-8461-bffe1a79511d.png\" width=\"800\">\n"
      ]
    },
    {
      "cell_type": "markdown",
      "metadata": {
        "id": "Zelyeqbyt3GD"
      },
      "source": [
        "# Environments\n",
        "\n",
        "YOLOv5 may be run in any of the following up-to-date verified environments (with all dependencies including [CUDA](https://developer.nvidia.com/cuda)/[CUDNN](https://developer.nvidia.com/cudnn), [Python](https://www.python.org/) and [PyTorch](https://pytorch.org/) preinstalled):\n",
        "\n",
        "- **Google Colab and Kaggle** notebooks with free GPU: <a href=\"https://colab.research.google.com/github/ultralytics/yolov5/blob/master/tutorial.ipynb\"><img src=\"https://colab.research.google.com/assets/colab-badge.svg\" alt=\"Open In Colab\"></a> <a href=\"https://www.kaggle.com/ultralytics/yolov5\"><img src=\"https://kaggle.com/static/images/open-in-kaggle.svg\" alt=\"Open In Kaggle\"></a>\n",
        "- **Google Cloud** Deep Learning VM. See [GCP Quickstart Guide](https://github.com/ultralytics/yolov5/wiki/GCP-Quickstart)\n",
        "- **Amazon** Deep Learning AMI. See [AWS Quickstart Guide](https://github.com/ultralytics/yolov5/wiki/AWS-Quickstart)\n",
        "- **Docker Image**. See [Docker Quickstart Guide](https://github.com/ultralytics/yolov5/wiki/Docker-Quickstart) <a href=\"https://hub.docker.com/r/ultralytics/yolov5\"><img src=\"https://img.shields.io/docker/pulls/ultralytics/yolov5?logo=docker\" alt=\"Docker Pulls\"></a>\n"
      ]
    },
    {
      "cell_type": "markdown",
      "metadata": {
        "id": "6Qu7Iesl0p54"
      },
      "source": [
        "# Status\n",
        "\n",
        "![CI CPU testing](https://github.com/ultralytics/yolov5/workflows/CI%20CPU%20testing/badge.svg)\n",
        "\n",
        "If this badge is green, all [YOLOv5 GitHub Actions](https://github.com/ultralytics/yolov5/actions) Continuous Integration (CI) tests are currently passing. CI tests verify correct operation of YOLOv5 training ([train.py](https://github.com/ultralytics/yolov5/blob/master/train.py)), testing ([test.py](https://github.com/ultralytics/yolov5/blob/master/test.py)), inference ([detect.py](https://github.com/ultralytics/yolov5/blob/master/detect.py)) and export ([export.py](https://github.com/ultralytics/yolov5/blob/master/models/export.py)) on MacOS, Windows, and Ubuntu every 24 hours and on every commit.\n"
      ]
    },
    {
      "cell_type": "markdown",
      "metadata": {
        "id": "IEijrePND_2I"
      },
      "source": [
        "# Appendix\n",
        "\n",
        "Optional extras below. Unit tests validate repo functionality and should be run on any PRs submitted.\n"
      ]
    },
    {
      "cell_type": "code",
      "metadata": {
        "id": "gI6NoBev8Ib1"
      },
      "source": [
        "# Re-clone repo\n",
        "%cd ..\n",
        "%rm -rf yolov5 && git clone https://github.com/ultralytics/yolov5\n",
        "%cd yolov5"
      ],
      "execution_count": null,
      "outputs": []
    },
    {
      "cell_type": "code",
      "metadata": {
        "id": "mcKoSIK2WSzj"
      },
      "source": [
        "# Reproduce\n",
        "for x in 'yolov5s', 'yolov5m', 'yolov5l', 'yolov5x':\n",
        "  !python test.py --weights {x}.pt --data coco.yaml --img 640 --conf 0.25 --iou 0.45  # speed\n",
        "  !python test.py --weights {x}.pt --data coco.yaml --img 640 --conf 0.001 --iou 0.65  # mAP"
      ],
      "execution_count": null,
      "outputs": []
    },
    {
      "cell_type": "code",
      "metadata": {
        "id": "GMusP4OAxFu6"
      },
      "source": [
        "# PyTorch Hub\n",
        "import torch\n",
        "\n",
        "# Model\n",
        "model = torch.hub.load('ultralytics/yolov5', 'yolov5s')\n",
        "\n",
        "# Images\n",
        "dir = 'https://github.com/ultralytics/yolov5/raw/master/data/images/'\n",
        "imgs = [dir + f for f in ('zidane.jpg', 'bus.jpg')]  # batch of images\n",
        "\n",
        "# Inference\n",
        "results = model(imgs)\n",
        "results.print()  # or .show(), .save()"
      ],
      "execution_count": null,
      "outputs": []
    },
    {
      "cell_type": "code",
      "metadata": {
        "id": "FGH0ZjkGjejy"
      },
      "source": [
        "# Unit tests\n",
        "%%shell\n",
        "export PYTHONPATH=\"$PWD\"  # to run *.py. files in subdirectories\n",
        "\n",
        "rm -rf runs  # remove runs/\n",
        "for m in yolov5s; do  # models\n",
        "  python train.py --weights $m.pt --epochs 3 --img 320 --device 0  # train pretrained\n",
        "  python train.py --weights '' --cfg $m.yaml --epochs 3 --img 320 --device 0  # train scratch\n",
        "  for d in 0 cpu; do  # devices\n",
        "    python detect.py --weights $m.pt --device $d  # detect official\n",
        "    python detect.py --weights runs/train/exp/weights/best.pt --device $d  # detect custom\n",
        "    python test.py --weights $m.pt --device $d # test official\n",
        "    python test.py --weights runs/train/exp/weights/best.pt --device $d # test custom\n",
        "  done\n",
        "  python hubconf.py  # hub\n",
        "  python models/yolo.py --cfg $m.yaml  # inspect\n",
        "  python models/export.py --weights $m.pt --img 640 --batch 1  # export\n",
        "done"
      ],
      "execution_count": null,
      "outputs": []
    },
    {
      "cell_type": "code",
      "metadata": {
        "id": "gogI-kwi3Tye"
      },
      "source": [
        "# Profile\n",
        "from utils.torch_utils import profile \n",
        "\n",
        "m1 = lambda x: x * torch.sigmoid(x)\n",
        "m2 = torch.nn.SiLU()\n",
        "profile(x=torch.randn(16, 3, 640, 640), ops=[m1, m2], n=100)"
      ],
      "execution_count": null,
      "outputs": []
    },
    {
      "cell_type": "code",
      "metadata": {
        "id": "RVRSOhEvUdb5"
      },
      "source": [
        "# Evolve\n",
        "!python train.py --img 640 --batch 64 --epochs 100 --data coco128.yaml --weights yolov5s.pt --cache --noautoanchor --evolve\n",
        "!d=runs/train/evolve && cp evolve.* $d && zip -r evolve.zip $d && gsutil mv evolve.zip gs://bucket  # upload results (optional)"
      ],
      "execution_count": null,
      "outputs": []
    },
    {
      "cell_type": "code",
      "metadata": {
        "id": "BSgFCAcMbk1R"
      },
      "source": [
        "# VOC\n",
        "for b, m in zip([64, 48, 32, 16], ['yolov5s', 'yolov5m', 'yolov5l', 'yolov5x']):  # zip(batch_size, model)\n",
        "  !python train.py --batch {b} --weights {m}.pt --data voc.yaml --epochs 50 --cache --img 512 --nosave --hyp hyp.finetune.yaml --project VOC --name {m}"
      ],
      "execution_count": null,
      "outputs": []
    }
  ]
}